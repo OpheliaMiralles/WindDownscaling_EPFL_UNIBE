{
 "cells": [
  {
   "cell_type": "markdown",
   "id": "f727686f-536c-48d5-833e-2d111110f7b2",
   "metadata": {},
   "source": [
    "# Download ERA5 reanalysis from Copernicus Climate Data Store\n",
    "\n",
    "- website: https://cds.climate.copernicus.eu/cdsapp#!/dataset/reanalysis-era5-single-levels?tab=overview\n",
    "- CDS data requests have limits in terms of number of fields and volume size. Therefore, each day is extracted as a single file.\n",
    "- Period: 2016 - 2020 --> 1826 files\n",
    "- Time to download: around 9h\n",
    "\n",
    "Follow the instructions [here](https://cds.climate.copernicus.eu/api-how-to) for registration and installation of the CDS API key and the python package \"cdsapi\".  "
   ]
  },
  {
   "cell_type": "code",
   "execution_count": null,
   "id": "4091ad24-db4d-4a7c-a5de-207f9f064f4f",
   "metadata": {},
   "outputs": [],
   "source": [
    "# =======\n",
    "# import packages\n",
    "\n",
    "# to read netcdf (for quick check)\n",
    "import xarray as xr\n",
    "# to download from CDS (Copernicus Climate Data Store)\n",
    "import cdsapi\n",
    "# set path\n",
    "from pathlib import Path\n",
    "# to create dates (for loop)\n",
    "from datetime import date, timedelta\n",
    "# plotting\n",
    "import matplotlib.pyplot as plt"
   ]
  },
  {
   "cell_type": "code",
   "execution_count": null,
   "id": "2765a612-cbe7-4c4a-8060-8c2e1e2cec2f",
   "metadata": {},
   "outputs": [],
   "source": [
    "# surface variables\n",
    "\n",
    "datapath = '../data/ERA5/'\n",
    "start_date = date(2016,1,1) \n",
    "end_date = date(2020,12,31) \n",
    "delta = end_date - start_date\n",
    "\n",
    "c = cdsapi.Client()\n",
    "# loop trough each day\n",
    "for i in range(delta.days + 1):\n",
    "    timestep = start_date + timedelta(days=i)\n",
    "    year = str(timestep.year)\n",
    "    month = str(timestep.month).zfill(2)\n",
    "    day = str(timestep.day).zfill(2)\n",
    "    filename = year + month + day + '_era5_surface_hourly.nc'\n",
    "    print(filename)\n",
    "    \n",
    "    # checking if files already exists, else download ERA5 data\n",
    "    my_file = Path(datapath + filename)\n",
    "    if my_file.is_file():\n",
    "        print(\" File already exists!\")\n",
    "    else:\n",
    "        c.retrieve(\n",
    "            'reanalysis-era5-single-levels',\n",
    "            {\n",
    "                'product_type': 'reanalysis',\n",
    "                'format': 'netcdf',\n",
    "                'variable': [\n",
    "                    '100m_u_component_of_wind', '100m_v_component_of_wind', '10m_u_component_of_wind',\n",
    "                    '10m_v_component_of_wind', '2m_dewpoint_temperature', '2m_temperature',\n",
    "                    'boundary_layer_height', 'surface_pressure', 'surface_sensible_heat_flux',\n",
    "                    'total_precipitation', 'forecast_surface_roughness',\n",
    "                ],\n",
    "                'year': year,\n",
    "                'month': month,\n",
    "                'day': day,\n",
    "                'time': [\n",
    "                    '00:00', '01:00', '02:00',\n",
    "                    '03:00', '04:00', '05:00',\n",
    "                    '06:00', '07:00', '08:00',\n",
    "                    '09:00', '10:00', '11:00',\n",
    "                    '12:00', '13:00', '14:00',\n",
    "                    '15:00', '16:00', '17:00',\n",
    "                    '18:00', '19:00', '20:00',\n",
    "                    '21:00', '22:00', '23:00',\n",
    "                ],\n",
    "                'area': [\n",
    "                    48.2, 5.2, 45.4,\n",
    "                    11.02,\n",
    "                ],\n",
    "            },\n",
    "            datapath + filename)"
   ]
  },
  {
   "cell_type": "code",
   "execution_count": null,
   "id": "ae126b85-584a-4567-96ad-311188ee8267",
   "metadata": {},
   "outputs": [],
   "source": [
    "# variables on 500 hPa\n",
    "\n",
    "datapath = '../data/ERA5/'\n",
    "start_date = date(2016,1,1) \n",
    "end_date = date(2020,12,31) \n",
    "delta = end_date - start_date\n",
    "\n",
    "c = cdsapi.Client()\n",
    "# loop trough each day\n",
    "for i in range(delta.days + 1):\n",
    "    timestep = start_date + timedelta(days=i)\n",
    "    year = str(timestep.year)\n",
    "    month = str(timestep.month).zfill(2)\n",
    "    day = str(timestep.day).zfill(2)\n",
    "    filename = year + month + day + '_era5_z500_hourly.nc'\n",
    "    print(filename)\n",
    "    \n",
    "    # checking if files already exists, else download ERA5 data\n",
    "    my_file = Path(datapath + filename)\n",
    "    if my_file.is_file():\n",
    "        print(\" File already exists!\")\n",
    "    else:\n",
    "        c.retrieve(\n",
    "            'reanalysis-era5-pressure-levels',\n",
    "            {\n",
    "                'product_type': 'reanalysis',\n",
    "                'format': 'netcdf',\n",
    "                'variable': [\n",
    "                    'divergence', 'geopotential', 'u_component_of_wind',\n",
    "                    'v_component_of_wind', 'vertical_velocity', 'vorticity',\n",
    "                ],\n",
    "                'pressure_level': '500',\n",
    "                'year': year,\n",
    "                'month': month,\n",
    "                'day': day,\n",
    "                'time': [\n",
    "                    '00:00', '01:00', '02:00',\n",
    "                    '03:00', '04:00', '05:00',\n",
    "                    '06:00', '07:00', '08:00',\n",
    "                    '09:00', '10:00', '11:00',\n",
    "                    '12:00', '13:00', '14:00',\n",
    "                    '15:00', '16:00', '17:00',\n",
    "                    '18:00', '19:00', '20:00',\n",
    "                    '21:00', '22:00', '23:00',\n",
    "                ],\n",
    "                'area': [\n",
    "                    48.2, 5.2, 45.4,\n",
    "                    11.02,\n",
    "                ],\n",
    "            },\n",
    "            datapath + filename)"
   ]
  },
  {
   "cell_type": "markdown",
   "id": "88a2d544-4574-4d19-8819-ea38beabf38d",
   "metadata": {},
   "source": [
    "# Quick check if files OK"
   ]
  },
  {
   "cell_type": "code",
   "execution_count": null,
   "id": "957215cc-2617-467e-8217-d0777eed1e11",
   "metadata": {},
   "outputs": [],
   "source": [
    "# load ERA5 data\n",
    "ds = xr.open_mfdataset(datapath + '*_era5_surface_hourly.nc', concat_dim='time' )\n",
    "print(type(ds))\n",
    "ds"
   ]
  },
  {
   "cell_type": "code",
   "execution_count": null,
   "id": "b8e118c8-a839-442a-8cea-00d35a352211",
   "metadata": {},
   "outputs": [],
   "source": [
    "ds.time"
   ]
  },
  {
   "cell_type": "code",
   "execution_count": null,
   "id": "f444f812-ec11-4c1b-8866-80b184d6ea0a",
   "metadata": {},
   "outputs": [],
   "source": [
    "# plot at a random time\n",
    "ds.u10.isel(time=24).plot()"
   ]
  },
  {
   "cell_type": "code",
   "execution_count": null,
   "id": "133716b7-3116-4db8-8342-8230074ea1a0",
   "metadata": {},
   "outputs": [],
   "source": []
  }
 ],
 "metadata": {
  "kernelspec": {
   "display_name": "Python 3",
   "language": "python",
   "name": "python3"
  },
  "language_info": {
   "codemirror_mode": {
    "name": "ipython",
    "version": 3
   },
   "file_extension": ".py",
   "mimetype": "text/x-python",
   "name": "python",
   "nbconvert_exporter": "python",
   "pygments_lexer": "ipython3",
   "version": "3.9.2"
  }
 },
 "nbformat": 4,
 "nbformat_minor": 5
}
