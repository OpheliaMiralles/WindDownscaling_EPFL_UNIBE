{
 "cells": [
  {
   "cell_type": "markdown",
   "id": "db425a82",
   "metadata": {},
   "source": [
    "# Wind Downscaling\n"
   ]
  },
  {
   "cell_type": "code",
   "execution_count": 1,
   "id": "711de2d7",
   "metadata": {},
   "outputs": [
    {
     "name": "stdout",
     "output_type": "stream",
     "text": [
      "Num GPUs Available: 0\n"
     ]
    }
   ],
   "source": [
    "import os\n",
    "from datetime import date, datetime\n",
    "from pathlib import Path\n",
    "from dotenv import load_dotenv\n",
    "from data.data_generator import BatchGenerator, NaiveDecoder, LocalFileProvider, S3FileProvider, NoiseGenerator\n",
    "from gan import train, metrics\n",
    "from gan.models import make_discriminator\n",
    "load_dotenv()\n",
    "import numpy as np\n",
    "import tensorflow as tf\n",
    "import tensorflow.keras.callbacks as cb\n",
    "print(f\"Num GPUs Available: {len(tf.config.list_physical_devices('GPU'))}\")\n",
    "import pandas as pd"
   ]
  },
  {
   "cell_type": "markdown",
   "id": "a1ff71a3",
   "metadata": {},
   "source": [
    "## Set configuration"
   ]
  },
  {
   "cell_type": "code",
   "execution_count": 2,
   "id": "029c1426",
   "metadata": {},
   "outputs": [],
   "source": [
    "DATA_ROOT = Path('./data')\n",
    "ERA5_DATA_FOLDER = DATA_ROOT / 'ERA5'\n",
    "COSMO1_DATA_FOLDER = DATA_ROOT / 'COSMO1'\n",
    "DEM_DATA_FILE = DATA_ROOT / 'dem/Switzerland-90m-DEM.tif'\n",
    "PROCESSED_DATA_FOLDER = DATA_ROOT / 'img_prediction_files'\n",
    "\n",
    "DATA_ROOT.mkdir(parents=True, exist_ok=True)\n",
    "ERA5_DATA_FOLDER.mkdir(exist_ok=True)\n",
    "COSMO1_DATA_FOLDER.mkdir(exist_ok=True)\n",
    "DEM_DATA_FILE.parent.mkdir(exist_ok=True)\n",
    "PROCESSED_DATA_FOLDER.mkdir(exist_ok=True)\n",
    "cosmoblurred = True\n",
    "run_id=datetime.today().strftime('%Y%m%d_%H%M')\n",
    "data_provider = 'local'"
   ]
  },
  {
   "cell_type": "code",
   "execution_count": 3,
   "id": "c457e1b5",
   "metadata": {},
   "outputs": [],
   "source": [
    "# Start and end date for the data - should be in the 2016-2020 range\n",
    "START_DATE = date(2017,1,1)\n",
    "END_DATE = date(2017,12,31)\n",
    "NUM_DAYS = (END_DATE-START_DATE).days + 1\n",
    "# Number of consecutive images to form a sequence\n",
    "SEQUENCE_LENGTH = 3\n",
    "# Size of the high resolution image to be produced\n",
    "IMG_SIZE = 64\n",
    "# Number of sequences per batch\n",
    "BATCH_SIZE = 8"
   ]
  },
  {
   "cell_type": "code",
   "execution_count": 4,
   "id": "39c9ac03",
   "metadata": {
    "pycharm": {
     "name": "#%%\n"
    }
   },
   "outputs": [],
   "source": [
    "TOPO_PREDICTORS = ['tpi_500', 'slope', 'aspect']\n",
    "HOMEMADE_PREDICTORS = ['e_plus', 'e_minus', 'w_speed', 'w_angle']\n",
    "ERA5_PREDICTORS_SURFACE = ['u10', 'v10', 'blh', 'fsr', 'sp', 'sshf']\n",
    "ERA5_PREDICTORS_Z500 = ['z']\n",
    "if cosmoblurred:\n",
    "    ALL_INPUTS = ['U_10M', 'V_10M'] + HOMEMADE_PREDICTORS + TOPO_PREDICTORS\n",
    "    input_pattern = 'x_cosmo_{date}.nc'\n",
    "    run_id = f'{run_id}_cosmo_blurred'\n",
    "else:\n",
    "    ALL_INPUTS = ERA5_PREDICTORS_Z500 + ERA5_PREDICTORS_SURFACE + TOPO_PREDICTORS + HOMEMADE_PREDICTORS\n",
    "    input_pattern = 'x_{date}.nc'\n",
    "ALL_INPUTS = ['U_10M', 'V_10M']\n",
    "ALL_OUTPUTS = ['U_10M', 'V_10M']\n",
    "BATCH_WORKERS = os.cpu_count()\n",
    "if data_provider == 'local':\n",
    "    input_provider = LocalFileProvider(PROCESSED_DATA_FOLDER, input_pattern)\n",
    "    output_provider = LocalFileProvider(PROCESSED_DATA_FOLDER, 'y_{date}.nc')\n",
    "elif data_provider == 's3':\n",
    "    input_provider = S3FileProvider('wind-downscaling', 'img_prediction_files', pattern=input_pattern)\n",
    "    output_provider = S3FileProvider('wind-downscaling', 'img_prediction_files', pattern='y_{date}.nc')\n",
    "else:\n",
    "    raise ValueError(f'Wrong value for data provider {data_provider}: please choose between s3 and local')\n",
    "AVAIL_DATES = [pd.to_datetime(v) for v in\n",
    "               set(input_provider.available_dates).intersection(output_provider.available_dates)]\n",
    "START_DATE = min(AVAIL_DATES)\n",
    "END_DATE = max(AVAIL_DATES)\n",
    "batch_gen = BatchGenerator(input_provider, output_provider,\n",
    "                                    decoder=NaiveDecoder(normalize=True),\n",
    "                                    sequence_length=SEQUENCE_LENGTH,\n",
    "                                    patch_length_pixel=IMG_SIZE, batch_size=BATCH_SIZE,\n",
    "                                    input_variables=ALL_INPUTS,\n",
    "                                    output_variables=ALL_OUTPUTS,\n",
    "                                    start_date=START_DATE, end_date=END_DATE,\n",
    "                                    num_workers=BATCH_WORKERS)\n",
    "INPUT_CHANNELS = len(ALL_INPUTS)\n",
    "OUT_CHANNELS = len(ALL_OUTPUTS)\n"
   ]
  },
  {
   "cell_type": "code",
   "execution_count": 5,
   "id": "b5322305",
   "metadata": {
    "pycharm": {
     "name": "#%%\n"
    }
   },
   "outputs": [
    {
     "name": "stdout",
     "output_type": "stream",
     "text": [
      "WARNING:tensorflow:multiprocessing can interact badly with TensorFlow, causing nondeterministic deadlocks. For high performance data pipelines tf.data is recommended.\n",
      "Creating batch 1/365\n",
      "Creating batch 2/365\n",
      "Creating batch 3/365\n",
      "Creating batch 4/365\n",
      "Creating batch 5/365\n",
      "Creating batch 6/365\n",
      "Creating batch 7/365\n",
      "Creating batch 8/365\n",
      "Creating batch 9/365\n",
      "Creating batch 10/365\n",
      "Creating batch 11/365\n",
      "Creating batch 12/365\n",
      "Creating batch 13/365\n",
      "Creating batch 14/365\n",
      "Creating batch 15/365\n",
      "Creating batch 16/365\n",
      "Creating batch 17/365\n",
      "Creating batch 18/365\n",
      "Creating batch 19/365\n",
      "Creating batch 20/365\n",
      "Creating batch 21/365\n",
      "Creating batch 22/365\n",
      "Creating batch 23/365\n",
      "Creating batch 24/365\n",
      "Creating batch 25/365\n",
      "Creating batch 26/365\n",
      "Creating batch 27/365\n",
      "Creating batch 28/365\n",
      "Creating batch 29/365\n",
      "Creating batch 30/365\n",
      "Creating batch 31/365\n",
      "Creating batch 32/365\n",
      "Creating batch 33/365\n",
      "Creating batch 34/365\n",
      "Creating batch 35/365\n",
      "Creating batch 36/365\n",
      "Creating batch 37/365\n",
      "Creating batch 38/365\n",
      "Creating batch 39/365\n",
      "Creating batch 40/365\n",
      "Creating batch 41/365\n",
      "Creating batch 42/365\n",
      "Creating batch 43/365\n",
      "Creating batch 44/365\n",
      "Creating batch 45/365\n",
      "Creating batch 46/365\n",
      "Creating batch 47/365\n",
      "Creating batch 48/365\n",
      "Creating batch 49/365\n",
      "Creating batch 50/365\n",
      "Creating batch 51/365\n",
      "Creating batch 52/365\n",
      "Creating batch 53/365\n",
      "Creating batch 54/365\n",
      "Creating batch 55/365\n",
      "Creating batch 56/365\n",
      "Creating batch 57/365\n",
      "Creating batch 58/365\n",
      "Creating batch 59/365\n",
      "Creating batch 60/365\n",
      "Creating batch 61/365\n",
      "Creating batch 62/365\n",
      "Creating batch 63/365\n",
      "Creating batch 64/365\n",
      "Creating batch 65/365\n",
      "Creating batch 66/365\n",
      "Creating batch 67/365\n",
      "Creating batch 68/365\n",
      "Creating batch 69/365\n",
      "Creating batch 70/365\n",
      "Creating batch 71/365\n",
      "Creating batch 72/365\n",
      "Creating batch 73/365\n",
      "Creating batch 74/365\n",
      "Creating batch 75/365\n",
      "Creating batch 76/365\n",
      "Creating batch 77/365\n",
      "Creating batch 78/365\n",
      "Creating batch 79/365\n",
      "Creating batch 80/365\n",
      "Creating batch 81/365\n",
      "Creating batch 82/365\n",
      "Creating batch 83/365\n",
      "Creating batch 84/365\n",
      "Creating batch 85/365\n",
      "Creating batch 86/365\n",
      "Creating batch 87/365\n",
      "Creating batch 88/365\n",
      "Creating batch 89/365\n",
      "Creating batch 90/365\n",
      "Creating batch 91/365\n",
      "Creating batch 92/365\n",
      "Creating batch 93/365\n",
      "Creating batch 94/365\n",
      "Creating batch 95/365\n",
      "Creating batch 96/365\n",
      "Creating batch 97/365\n",
      "Creating batch 98/365\n",
      "Creating batch 99/365\n",
      "Creating batch 100/365\n",
      "Creating batch 101/365\n",
      "Creating batch 102/365\n",
      "Creating batch 103/365\n",
      "Creating batch 104/365\n",
      "Creating batch 105/365\n",
      "Creating batch 106/365\n",
      "Creating batch 107/365\n",
      "Creating batch 108/365\n",
      "Creating batch 109/365\n",
      "Creating batch 110/365\n",
      "Creating batch 111/365\n",
      "Creating batch 112/365\n",
      "Creating batch 113/365\n",
      "Creating batch 114/365\n",
      "Creating batch 115/365\n",
      "Creating batch 116/365\n",
      "Creating batch 117/365\n",
      "Creating batch 118/365\n",
      "Creating batch 119/365\n",
      "Creating batch 120/365\n",
      "Creating batch 121/365\n",
      "Creating batch 122/365\n",
      "Creating batch 123/365\n",
      "Creating batch 124/365\n",
      "Creating batch 125/365\n",
      "Creating batch 126/365\n",
      "Creating batch 127/365\n",
      "Creating batch 128/365\n",
      "Creating batch 129/365\n",
      "Creating batch 130/365\n",
      "Creating batch 131/365\n",
      "Creating batch 132/365\n",
      "Creating batch 133/365\n",
      "Creating batch 134/365\n",
      "Creating batch 135/365\n",
      "Creating batch 136/365\n",
      "Creating batch 137/365\n",
      "Creating batch 138/365\n",
      "Creating batch 139/365\n",
      "Creating batch 140/365\n",
      "Creating batch 141/365\n",
      "Creating batch 142/365\n",
      "Creating batch 143/365\n",
      "Creating batch 144/365\n",
      "Creating batch 145/365\n",
      "Creating batch 146/365\n",
      "Creating batch 147/365\n",
      "Creating batch 148/365\n",
      "Creating batch 149/365\n",
      "Creating batch 150/365\n",
      "Creating batch 151/365\n",
      "Creating batch 152/365\n",
      "Creating batch 153/365\n",
      "Creating batch 154/365\n",
      "Creating batch 155/365\n",
      "Creating batch 156/365\n",
      "Creating batch 157/365\n",
      "Creating batch 158/365\n",
      "Creating batch 159/365\n",
      "Creating batch 160/365\n",
      "Creating batch 161/365\n",
      "Creating batch 162/365\n",
      "Creating batch 163/365\n",
      "Creating batch 164/365\n",
      "Creating batch 165/365\n",
      "Creating batch 166/365\n",
      "Creating batch 167/365\n",
      "Creating batch 168/365\n",
      "Creating batch 169/365\n",
      "Creating batch 170/365\n",
      "Creating batch 171/365\n",
      "Creating batch 172/365\n",
      "Creating batch 173/365\n",
      "Creating batch 174/365\n",
      "Creating batch 175/365\n",
      "Creating batch 176/365\n",
      "Creating batch 177/365\n",
      "Creating batch 178/365\n",
      "Creating batch 179/365\n",
      "Creating batch 180/365\n",
      "Creating batch 181/365\n",
      "Creating batch 182/365\n",
      "Creating batch 183/365\n",
      "Creating batch 184/365\n",
      "Creating batch 185/365\n",
      "Creating batch 186/365\n",
      "Creating batch 187/365\n",
      "Creating batch 188/365\n",
      "Creating batch 189/365\n",
      "Creating batch 190/365\n",
      "Creating batch 191/365\n",
      "Creating batch 192/365\n",
      "Creating batch 193/365\n",
      "Creating batch 194/365\n",
      "Creating batch 195/365\n",
      "Creating batch 196/365\n",
      "Creating batch 197/365\n",
      "Creating batch 198/365\n",
      "Creating batch 199/365\n",
      "Creating batch 200/365\n",
      "Creating batch 201/365\n",
      "Creating batch 202/365\n",
      "Creating batch 203/365\n",
      "Creating batch 204/365\n",
      "Creating batch 205/365\n",
      "Creating batch 206/365\n",
      "Creating batch 207/365\n",
      "Creating batch 208/365\n",
      "Creating batch 209/365\n",
      "Creating batch 210/365\n",
      "Creating batch 211/365\n",
      "Creating batch 212/365\n",
      "Creating batch 213/365\n",
      "Creating batch 214/365\n",
      "Creating batch 215/365\n",
      "Creating batch 216/365\n",
      "Creating batch 217/365\n",
      "Creating batch 218/365\n",
      "Creating batch 219/365\n",
      "Creating batch 220/365\n",
      "Creating batch 221/365\n",
      "Creating batch 222/365\n",
      "Creating batch 223/365\n",
      "Creating batch 224/365\n",
      "Creating batch 225/365\n",
      "Creating batch 226/365\n",
      "Creating batch 227/365\n",
      "Creating batch 228/365\n",
      "Creating batch 229/365\n",
      "Creating batch 230/365\n",
      "Creating batch 231/365\n",
      "Creating batch 232/365\n",
      "Creating batch 233/365\n",
      "Creating batch 234/365\n",
      "Creating batch 235/365\n",
      "Creating batch 236/365\n",
      "Creating batch 237/365\n",
      "Creating batch 238/365\n",
      "Creating batch 239/365\n",
      "Creating batch 240/365\n",
      "Creating batch 241/365\n",
      "Creating batch 242/365\n",
      "Creating batch 243/365\n",
      "Creating batch 244/365\n",
      "Creating batch 245/365\n",
      "Creating batch 246/365\n",
      "Creating batch 247/365\n",
      "Creating batch 248/365\n",
      "Creating batch 249/365\n",
      "Creating batch 250/365\n",
      "Creating batch 251/365\n",
      "Creating batch 252/365\n",
      "Creating batch 253/365\n",
      "Creating batch 254/365\n",
      "Creating batch 255/365\n",
      "Creating batch 256/365\n",
      "Creating batch 257/365\n",
      "Creating batch 258/365\n",
      "Creating batch 259/365\n",
      "Creating batch 260/365\n",
      "Creating batch 261/365\n",
      "Creating batch 262/365\n",
      "Creating batch 263/365\n",
      "Creating batch 264/365\n",
      "Creating batch 265/365\n",
      "Creating batch 266/365\n",
      "Creating batch 267/365\n",
      "Creating batch 268/365\n",
      "Creating batch 269/365\n",
      "Creating batch 270/365\n",
      "Creating batch 271/365\n",
      "Creating batch 272/365\n",
      "Creating batch 273/365\n",
      "Creating batch 274/365\n",
      "Creating batch 275/365\n",
      "Creating batch 276/365\n",
      "Creating batch 277/365\n",
      "Creating batch 278/365\n",
      "Creating batch 279/365\n",
      "Creating batch 280/365\n",
      "Creating batch 281/365\n",
      "Creating batch 282/365\n",
      "Creating batch 283/365\n",
      "Creating batch 284/365\n",
      "Creating batch 285/365\n",
      "Creating batch 286/365\n",
      "Creating batch 287/365\n",
      "Creating batch 288/365\n",
      "Creating batch 289/365\n",
      "Creating batch 290/365\n",
      "Creating batch 291/365\n",
      "Creating batch 292/365\n",
      "Creating batch 293/365\n",
      "Creating batch 294/365\n",
      "Creating batch 295/365\n",
      "Creating batch 296/365\n",
      "Creating batch 297/365\n",
      "Creating batch 298/365\n",
      "Creating batch 299/365\n",
      "Creating batch 300/365\n",
      "Creating batch 301/365\n",
      "Creating batch 302/365\n",
      "Creating batch 303/365\n",
      "Creating batch 304/365\n",
      "Creating batch 305/365\n",
      "Creating batch 306/365\n",
      "Creating batch 307/365\n",
      "Creating batch 308/365\n",
      "Creating batch 309/365\n",
      "Creating batch 310/365\n",
      "Creating batch 311/365\n",
      "Creating batch 312/365\n",
      "Creating batch 313/365\n",
      "Creating batch 314/365\n",
      "Creating batch 315/365\n",
      "Creating batch 316/365\n",
      "Creating batch 317/365\n",
      "Creating batch 318/365\n",
      "Creating batch 319/365\n",
      "Creating batch 320/365\n",
      "Creating batch 321/365\n",
      "Creating batch 322/365\n",
      "Creating batch 323/365\n",
      "Creating batch 324/365\n",
      "Creating batch 325/365\n",
      "Creating batch 326/365\n",
      "Creating batch 327/365\n",
      "Creating batch 328/365\n",
      "Creating batch 329/365\n",
      "Creating batch 330/365\n",
      "Creating batch 331/365\n",
      "Creating batch 332/365\n",
      "Creating batch 333/365\n",
      "Creating batch 334/365\n",
      "Creating batch 335/365\n",
      "Creating batch 336/365\n",
      "Creating batch 337/365\n",
      "Creating batch 338/365\n",
      "Creating batch 339/365\n",
      "Creating batch 340/365\n",
      "Creating batch 341/365\n",
      "Creating batch 342/365\n",
      "Creating batch 343/365\n",
      "Creating batch 344/365\n",
      "Creating batch 345/365\n",
      "Creating batch 346/365\n",
      "Creating batch 347/365\n",
      "Creating batch 348/365\n",
      "Creating batch 349/365\n",
      "Creating batch 350/365\n",
      "Creating batch 351/365\n",
      "Creating batch 352/365\n",
      "Creating batch 353/365\n",
      "Creating batch 354/365\n"
     ]
    },
    {
     "name": "stdout",
     "output_type": "stream",
     "text": [
      "Creating batch 355/365\n",
      "Creating batch 356/365\n",
      "Creating batch 357/365\n",
      "Creating batch 358/365\n",
      "Creating batch 359/365\n",
      "Creating batch 360/365\n",
      "Creating batch 361/365\n",
      "Creating batch 362/365\n",
      "Creating batch 363/365\n",
      "Creating batch 364/365\n",
      "Creating batch 365/365\n"
     ]
    }
   ],
   "source": [
    "inputs = []\n",
    "outputs = []\n",
    "with batch_gen as batch:\n",
    "    for b in range(NUM_DAYS):\n",
    "        print(f'Creating batch {b+1}/{NUM_DAYS}')\n",
    "        x, y = next(batch)\n",
    "        inputs.append(x)\n",
    "        outputs.append(y)\n",
    "inputs = np.concatenate(inputs, axis=0)\n",
    "outputs = np.concatenate(outputs, axis=0)"
   ]
  },
  {
   "cell_type": "code",
   "execution_count": 6,
   "id": "cf21b28e",
   "metadata": {
    "pycharm": {
     "name": "#%%\n"
    },
    "scrolled": true
   },
   "outputs": [
    {
     "name": "stdout",
     "output_type": "stream",
     "text": [
      "Inputs: (2920, 3, 64, 64, 2)\n",
      "Outputs: (2920, 3, 64, 64, 2)\n",
      "(5840, 3, 64, 64, 2) (5840, 3, 64, 64, 2) (5840,)\n"
     ]
    }
   ],
   "source": [
    "print(f\"Inputs: {inputs.shape}\")\n",
    "print(f\"Outputs: {outputs.shape}\")\n",
    "n_examples = inputs.shape[0]\n",
    "noise = NoiseGenerator(inputs.shape)()[...,:2]\n",
    "x = np.concatenate([inputs, noise], axis=0)\n",
    "x = (x, np.concatenate([outputs, outputs], axis=0))\n",
    "y = np.concatenate([np.ones(n_examples), -np.ones(n_examples)])\n",
    "print(x[0].shape, x[1].shape, y.shape)"
   ]
  },
  {
   "cell_type": "code",
   "execution_count": 7,
   "id": "00ce7c78",
   "metadata": {},
   "outputs": [],
   "source": [
    "INPUT_CHANNELS = len(ALL_INPUTS)\n",
    "OUT_CHANNELS = len(ALL_OUTPUTS)"
   ]
  },
  {
   "cell_type": "code",
   "execution_count": 8,
   "id": "a4d07769",
   "metadata": {
    "pycharm": {
     "name": "#%%\n"
    }
   },
   "outputs": [
    {
     "name": "stdout",
     "output_type": "stream",
     "text": [
      "Generator: 3,303,241 weights\n"
     ]
    }
   ],
   "source": [
    "discriminator = make_discriminator(low_res_size=IMG_SIZE, high_res_size=IMG_SIZE,\n",
    "                               low_res_channels=INPUT_CHANNELS,\n",
    "                               high_res_channels=OUT_CHANNELS,\n",
    "                                        n_timesteps=SEQUENCE_LENGTH)\n",
    "print(f\"Generator: {discriminator.count_params():,} weights\")\n",
    "\n",
    "def loss(y_true, y_pred):\n",
    "    return tf.reduce_mean(y_true * y_pred)\n",
    "\n",
    "discriminator.compile(optimizer=train.discriminator_optimizer(),\n",
    "                  metrics=['accuracy'],\n",
    "                  loss=loss)"
   ]
  },
  {
   "cell_type": "code",
   "execution_count": 9,
   "id": "e76efc60",
   "metadata": {},
   "outputs": [],
   "source": [
    "checkpoint_path_weights = Path('./checkpoints/discriminator') / run_id / 'weights-{epoch:02d}.ckpt'\n",
    "checkpoint_path_weights.parent.mkdir(exist_ok=True, parents=True)\n",
    "log_path = Path('./logs/discriminator') / run_id\n",
    "if log_path.exists():\n",
    "    log_path_str = str(log_path)\n",
    "    !rm -rf {log_path_str}"
   ]
  },
  {
   "cell_type": "code",
   "execution_count": 10,
   "id": "5b753c15",
   "metadata": {
    "scrolled": false
   },
   "outputs": [
    {
     "data": {
      "text/html": [
       "\n",
       "      <iframe id=\"tensorboard-frame-73b568e8831c4f4a\" width=\"100%\" height=\"800\" frameborder=\"0\">\n",
       "      </iframe>\n",
       "      <script>\n",
       "        (function() {\n",
       "          const frame = document.getElementById(\"tensorboard-frame-73b568e8831c4f4a\");\n",
       "          const url = new URL(\"/\", window.location);\n",
       "          const port = 6007;\n",
       "          if (port) {\n",
       "            url.port = port;\n",
       "          }\n",
       "          frame.src = url;\n",
       "        })();\n",
       "      </script>\n",
       "    "
      ],
      "text/plain": [
       "<IPython.core.display.HTML object>"
      ]
     },
     "metadata": {},
     "output_type": "display_data"
    }
   ],
   "source": [
    "%load_ext tensorboard\n",
    "%tensorboard --logdir=$log_path"
   ]
  },
  {
   "cell_type": "code",
   "execution_count": 11,
   "id": "375c2a87",
   "metadata": {},
   "outputs": [
    {
     "name": "stdout",
     "output_type": "stream",
     "text": [
      "WARNING:tensorflow:`period` argument is deprecated. Please use `save_freq` to specify the frequency in number of batches seen.\n"
     ]
    }
   ],
   "source": [
    "callbacks = [\n",
    "        cb.TensorBoard(log_path, write_images=True, update_freq='batch'),\n",
    "        cb.ProgbarLogger('steps'),\n",
    "        cb.TerminateOnNaN(),\n",
    "        cb.ModelCheckpoint(str(checkpoint_path_weights), save_best_only=False, period=10,\n",
    "                           save_weights_only=True),\n",
    "    ]"
   ]
  },
  {
   "cell_type": "code",
   "execution_count": 12,
   "id": "b42a9f11",
   "metadata": {
    "pycharm": {
     "name": "#%%\n"
    },
    "scrolled": false
   },
   "outputs": [
    {
     "name": "stdout",
     "output_type": "stream",
     "text": [
      "Epoch 1/50\n",
      "183/183 [==============================] - 312s 2s/step - loss: -78.2010 - accuracy: 0.0798\n",
      "Epoch 2/50\n",
      "183/183 [==============================] - 255s 1s/step - loss: -874.9581 - accuracy: 0.0411\n",
      "Epoch 3/50\n",
      "183/183 [==============================] - 256s 1s/step - loss: -1600.8780 - accuracy: 0.0026\n",
      "Epoch 4/50\n",
      "183/183 [==============================] - 292s 2s/step - loss: -2236.5484 - accuracy: 0.0139\n",
      "Epoch 5/50\n",
      "183/183 [==============================] - 288s 2s/step - loss: -3215.0449 - accuracy: 0.0504\n",
      "Epoch 6/50\n",
      "183/183 [==============================] - 279s 2s/step - loss: -4404.0065 - accuracy: 0.0226\n",
      "Epoch 7/50\n",
      "183/183 [==============================] - 292s 2s/step - loss: -5356.0052 - accuracy: 6.7282e-04\n",
      "Epoch 8/50\n",
      "183/183 [==============================] - 260s 1s/step - loss: -6421.0321 - accuracy: 4.2693e-04\n",
      "Epoch 9/50\n",
      "183/183 [==============================] - 259s 1s/step - loss: -7539.1659 - accuracy: 5.5555e-04\n",
      "Epoch 10/50\n",
      "183/183 [==============================] - 257s 1s/step - loss: -9166.5245 - accuracy: 0.0000e+00\n",
      "Epoch 11/50\n",
      "183/183 [==============================] - 241s 1s/step - loss: -10506.6869 - accuracy: 0.0000e+00\n",
      "Epoch 12/50\n",
      "183/183 [==============================] - 242s 1s/step - loss: -11852.0840 - accuracy: 0.0000e+00\n",
      "Epoch 13/50\n",
      "183/183 [==============================] - 254s 1s/step - loss: -13938.7726 - accuracy: 0.0000e+00\n",
      "Epoch 14/50\n",
      "183/183 [==============================] - 240s 1s/step - loss: -14917.7649 - accuracy: 0.0000e+00\n",
      "Epoch 15/50\n",
      "183/183 [==============================] - 242s 1s/step - loss: -16581.7435 - accuracy: 5.6251e-06\n",
      "Epoch 16/50\n",
      "183/183 [==============================] - 241s 1s/step - loss: -17950.4312 - accuracy: 0.0000e+00\n",
      "Epoch 17/50\n",
      "183/183 [==============================] - 242s 1s/step - loss: -19819.6965 - accuracy: 1.3877e-04\n",
      "Epoch 18/50\n",
      "183/183 [==============================] - 242s 1s/step - loss: -21171.2915 - accuracy: 0.0000e+00\n",
      "Epoch 19/50\n",
      "183/183 [==============================] - 241s 1s/step - loss: -23718.5424 - accuracy: 0.0000e+00\n",
      "Epoch 20/50\n",
      "183/183 [==============================] - 242s 1s/step - loss: -27309.8222 - accuracy: 0.0000e+00\n",
      "Epoch 21/50\n",
      "183/183 [==============================] - 241s 1s/step - loss: -27883.2235 - accuracy: 0.0024\n",
      "Epoch 22/50\n",
      "183/183 [==============================] - 253s 1s/step - loss: -30319.1588 - accuracy: 0.0012\n",
      "Epoch 23/50\n",
      "183/183 [==============================] - 248s 1s/step - loss: -33309.8105 - accuracy: 1.8659e-04\n",
      "Epoch 24/50\n",
      "183/183 [==============================] - 247s 1s/step - loss: -36265.1161 - accuracy: 2.7944e-06\n",
      "Epoch 25/50\n",
      "183/183 [==============================] - 238s 1s/step - loss: -38355.8660 - accuracy: 0.0012\n",
      "Epoch 26/50\n",
      "183/183 [==============================] - 231s 1s/step - loss: -39301.7300 - accuracy: 0.0000e+00\n",
      "Epoch 27/50\n",
      "183/183 [==============================] - 230s 1s/step - loss: -42238.6679 - accuracy: 0.0000e+00\n",
      "Epoch 28/50\n",
      "183/183 [==============================] - 230s 1s/step - loss: -45448.9120 - accuracy: 0.0000e+00\n",
      "Epoch 29/50\n",
      "183/183 [==============================] - 228s 1s/step - loss: -47342.0355 - accuracy: 0.0000e+00\n",
      "Epoch 30/50\n",
      "183/183 [==============================] - 226s 1s/step - loss: -49600.2391 - accuracy: 2.4379e-04\n",
      "Epoch 31/50\n",
      "183/183 [==============================] - 226s 1s/step - loss: -52651.3059 - accuracy: 7.3400e-04\n",
      "Epoch 32/50\n",
      "183/183 [==============================] - 227s 1s/step - loss: -56686.1614 - accuracy: 6.6370e-04\n",
      "Epoch 33/50\n",
      "183/183 [==============================] - 228s 1s/step - loss: -61359.4512 - accuracy: 1.8612e-06\n",
      "Epoch 34/50\n",
      "183/183 [==============================] - 226s 1s/step - loss: -62616.9997 - accuracy: 0.0406\n",
      "Epoch 35/50\n",
      "183/183 [==============================] - 224s 1s/step - loss: -65092.3857 - accuracy: 0.0023\n",
      "Epoch 36/50\n",
      "183/183 [==============================] - 224s 1s/step - loss: -70734.4806 - accuracy: 0.0031\n",
      "Epoch 37/50\n",
      "183/183 [==============================] - 224s 1s/step - loss: -74504.8698 - accuracy: 0.0174\n",
      "Epoch 38/50\n",
      "183/183 [==============================] - 224s 1s/step - loss: -85008.9224 - accuracy: 0.0000e+00\n",
      "Epoch 39/50\n",
      "183/183 [==============================] - 224s 1s/step - loss: -118370.6610 - accuracy: 9.7739e-04\n",
      "Epoch 40/50\n",
      "183/183 [==============================] - 224s 1s/step - loss: -122395.9692 - accuracy: 1.0660e-04\n"
     ]
    },
    {
     "ename": "ResourceExhaustedError",
     "evalue": "checkpoints/discriminator/20211029_1031_cosmo_blurred/weights-40.ckpt_temp/part-00000-of-00001.data-00000-of-00001.tempstate3835843332834296058; No space left on device [Op:SaveV2]",
     "output_type": "error",
     "traceback": [
      "\u001b[0;31m---------------------------------------------------------------\u001b[0m",
      "\u001b[0;31mResourceExhaustedError\u001b[0m        Traceback (most recent call last)",
      "\u001b[0;32m<ipython-input-12-8e6e5ad4e464>\u001b[0m in \u001b[0;36m<module>\u001b[0;34m\u001b[0m\n\u001b[0;32m----> 1\u001b[0;31m \u001b[0mdiscriminator\u001b[0m\u001b[0;34m.\u001b[0m\u001b[0mfit\u001b[0m\u001b[0;34m(\u001b[0m\u001b[0mx\u001b[0m\u001b[0;34m=\u001b[0m\u001b[0mx\u001b[0m\u001b[0;34m,\u001b[0m \u001b[0my\u001b[0m\u001b[0;34m=\u001b[0m\u001b[0my\u001b[0m\u001b[0;34m,\u001b[0m \u001b[0mcallbacks\u001b[0m\u001b[0;34m=\u001b[0m\u001b[0mcallbacks\u001b[0m\u001b[0;34m,\u001b[0m \u001b[0mepochs\u001b[0m\u001b[0;34m=\u001b[0m\u001b[0;36m50\u001b[0m\u001b[0;34m)\u001b[0m\u001b[0;34m\u001b[0m\u001b[0;34m\u001b[0m\u001b[0m\n\u001b[0m",
      "\u001b[0;32m~/opt/anaconda3/envs/downscale_dev/lib/python3.9/site-packages/tensorflow/python/keras/engine/training.py\u001b[0m in \u001b[0;36mfit\u001b[0;34m(self, x, y, batch_size, epochs, verbose, callbacks, validation_split, validation_data, shuffle, class_weight, sample_weight, initial_epoch, steps_per_epoch, validation_steps, validation_batch_size, validation_freq, max_queue_size, workers, use_multiprocessing)\u001b[0m\n\u001b[1;32m   1138\u001b[0m           \u001b[0mepoch_logs\u001b[0m\u001b[0;34m.\u001b[0m\u001b[0mupdate\u001b[0m\u001b[0;34m(\u001b[0m\u001b[0mval_logs\u001b[0m\u001b[0;34m)\u001b[0m\u001b[0;34m\u001b[0m\u001b[0;34m\u001b[0m\u001b[0m\n\u001b[1;32m   1139\u001b[0m \u001b[0;34m\u001b[0m\u001b[0m\n\u001b[0;32m-> 1140\u001b[0;31m         \u001b[0mcallbacks\u001b[0m\u001b[0;34m.\u001b[0m\u001b[0mon_epoch_end\u001b[0m\u001b[0;34m(\u001b[0m\u001b[0mepoch\u001b[0m\u001b[0;34m,\u001b[0m \u001b[0mepoch_logs\u001b[0m\u001b[0;34m)\u001b[0m\u001b[0;34m\u001b[0m\u001b[0;34m\u001b[0m\u001b[0m\n\u001b[0m\u001b[1;32m   1141\u001b[0m         \u001b[0mtraining_logs\u001b[0m \u001b[0;34m=\u001b[0m \u001b[0mepoch_logs\u001b[0m\u001b[0;34m\u001b[0m\u001b[0;34m\u001b[0m\u001b[0m\n\u001b[1;32m   1142\u001b[0m         \u001b[0;32mif\u001b[0m \u001b[0mself\u001b[0m\u001b[0;34m.\u001b[0m\u001b[0mstop_training\u001b[0m\u001b[0;34m:\u001b[0m\u001b[0;34m\u001b[0m\u001b[0;34m\u001b[0m\u001b[0m\n",
      "\u001b[0;32m~/opt/anaconda3/envs/downscale_dev/lib/python3.9/site-packages/tensorflow/python/keras/callbacks.py\u001b[0m in \u001b[0;36mon_epoch_end\u001b[0;34m(self, epoch, logs)\u001b[0m\n\u001b[1;32m    426\u001b[0m     \u001b[0;32mfor\u001b[0m \u001b[0mcallback\u001b[0m \u001b[0;32min\u001b[0m \u001b[0mself\u001b[0m\u001b[0;34m.\u001b[0m\u001b[0mcallbacks\u001b[0m\u001b[0;34m:\u001b[0m\u001b[0;34m\u001b[0m\u001b[0;34m\u001b[0m\u001b[0m\n\u001b[1;32m    427\u001b[0m       \u001b[0;32mif\u001b[0m \u001b[0mgetattr\u001b[0m\u001b[0;34m(\u001b[0m\u001b[0mcallback\u001b[0m\u001b[0;34m,\u001b[0m \u001b[0;34m'_supports_tf_logs'\u001b[0m\u001b[0;34m,\u001b[0m \u001b[0;32mFalse\u001b[0m\u001b[0;34m)\u001b[0m\u001b[0;34m:\u001b[0m\u001b[0;34m\u001b[0m\u001b[0;34m\u001b[0m\u001b[0m\n\u001b[0;32m--> 428\u001b[0;31m         \u001b[0mcallback\u001b[0m\u001b[0;34m.\u001b[0m\u001b[0mon_epoch_end\u001b[0m\u001b[0;34m(\u001b[0m\u001b[0mepoch\u001b[0m\u001b[0;34m,\u001b[0m \u001b[0mlogs\u001b[0m\u001b[0;34m)\u001b[0m\u001b[0;34m\u001b[0m\u001b[0;34m\u001b[0m\u001b[0m\n\u001b[0m\u001b[1;32m    429\u001b[0m       \u001b[0;32melse\u001b[0m\u001b[0;34m:\u001b[0m\u001b[0;34m\u001b[0m\u001b[0;34m\u001b[0m\u001b[0m\n\u001b[1;32m    430\u001b[0m         \u001b[0;32mif\u001b[0m \u001b[0mnumpy_logs\u001b[0m \u001b[0;32mis\u001b[0m \u001b[0;32mNone\u001b[0m\u001b[0;34m:\u001b[0m  \u001b[0;31m# Only convert once.\u001b[0m\u001b[0;34m\u001b[0m\u001b[0;34m\u001b[0m\u001b[0m\n",
      "\u001b[0;32m~/opt/anaconda3/envs/downscale_dev/lib/python3.9/site-packages/tensorflow/python/keras/callbacks.py\u001b[0m in \u001b[0;36mon_epoch_end\u001b[0;34m(self, epoch, logs)\u001b[0m\n\u001b[1;32m   1342\u001b[0m     \u001b[0;31m# pylint: disable=protected-access\u001b[0m\u001b[0;34m\u001b[0m\u001b[0;34m\u001b[0m\u001b[0;34m\u001b[0m\u001b[0m\n\u001b[1;32m   1343\u001b[0m     \u001b[0;32mif\u001b[0m \u001b[0mself\u001b[0m\u001b[0;34m.\u001b[0m\u001b[0msave_freq\u001b[0m \u001b[0;34m==\u001b[0m \u001b[0;34m'epoch'\u001b[0m\u001b[0;34m:\u001b[0m\u001b[0;34m\u001b[0m\u001b[0;34m\u001b[0m\u001b[0m\n\u001b[0;32m-> 1344\u001b[0;31m       \u001b[0mself\u001b[0m\u001b[0;34m.\u001b[0m\u001b[0m_save_model\u001b[0m\u001b[0;34m(\u001b[0m\u001b[0mepoch\u001b[0m\u001b[0;34m=\u001b[0m\u001b[0mepoch\u001b[0m\u001b[0;34m,\u001b[0m \u001b[0mlogs\u001b[0m\u001b[0;34m=\u001b[0m\u001b[0mlogs\u001b[0m\u001b[0;34m)\u001b[0m\u001b[0;34m\u001b[0m\u001b[0;34m\u001b[0m\u001b[0m\n\u001b[0m\u001b[1;32m   1345\u001b[0m \u001b[0;34m\u001b[0m\u001b[0m\n\u001b[1;32m   1346\u001b[0m   \u001b[0;32mdef\u001b[0m \u001b[0m_should_save_on_batch\u001b[0m\u001b[0;34m(\u001b[0m\u001b[0mself\u001b[0m\u001b[0;34m,\u001b[0m \u001b[0mbatch\u001b[0m\u001b[0;34m)\u001b[0m\u001b[0;34m:\u001b[0m\u001b[0;34m\u001b[0m\u001b[0;34m\u001b[0m\u001b[0m\n",
      "\u001b[0;32m~/opt/anaconda3/envs/downscale_dev/lib/python3.9/site-packages/tensorflow/python/keras/callbacks.py\u001b[0m in \u001b[0;36m_save_model\u001b[0;34m(self, epoch, logs)\u001b[0m\n\u001b[1;32m   1403\u001b[0m             \u001b[0mprint\u001b[0m\u001b[0;34m(\u001b[0m\u001b[0;34m'\\nEpoch %05d: saving model to %s'\u001b[0m \u001b[0;34m%\u001b[0m \u001b[0;34m(\u001b[0m\u001b[0mepoch\u001b[0m \u001b[0;34m+\u001b[0m \u001b[0;36m1\u001b[0m\u001b[0;34m,\u001b[0m \u001b[0mfilepath\u001b[0m\u001b[0;34m)\u001b[0m\u001b[0;34m)\u001b[0m\u001b[0;34m\u001b[0m\u001b[0;34m\u001b[0m\u001b[0m\n\u001b[1;32m   1404\u001b[0m           \u001b[0;32mif\u001b[0m \u001b[0mself\u001b[0m\u001b[0;34m.\u001b[0m\u001b[0msave_weights_only\u001b[0m\u001b[0;34m:\u001b[0m\u001b[0;34m\u001b[0m\u001b[0;34m\u001b[0m\u001b[0m\n\u001b[0;32m-> 1405\u001b[0;31m             self.model.save_weights(\n\u001b[0m\u001b[1;32m   1406\u001b[0m                 filepath, overwrite=True, options=self._options)\n\u001b[1;32m   1407\u001b[0m           \u001b[0;32melse\u001b[0m\u001b[0;34m:\u001b[0m\u001b[0;34m\u001b[0m\u001b[0;34m\u001b[0m\u001b[0m\n",
      "\u001b[0;32m~/opt/anaconda3/envs/downscale_dev/lib/python3.9/site-packages/tensorflow/python/keras/engine/training.py\u001b[0m in \u001b[0;36msave_weights\u001b[0;34m(self, filepath, overwrite, save_format, options)\u001b[0m\n\u001b[1;32m   2117\u001b[0m              'saved.\\n\\nConsider using a TensorFlow optimizer from `tf.train`.')\n\u001b[1;32m   2118\u001b[0m             % (optimizer,))\n\u001b[0;32m-> 2119\u001b[0;31m       \u001b[0mself\u001b[0m\u001b[0;34m.\u001b[0m\u001b[0m_trackable_saver\u001b[0m\u001b[0;34m.\u001b[0m\u001b[0msave\u001b[0m\u001b[0;34m(\u001b[0m\u001b[0mfilepath\u001b[0m\u001b[0;34m,\u001b[0m \u001b[0msession\u001b[0m\u001b[0;34m=\u001b[0m\u001b[0msession\u001b[0m\u001b[0;34m,\u001b[0m \u001b[0moptions\u001b[0m\u001b[0;34m=\u001b[0m\u001b[0moptions\u001b[0m\u001b[0;34m)\u001b[0m\u001b[0;34m\u001b[0m\u001b[0;34m\u001b[0m\u001b[0m\n\u001b[0m\u001b[1;32m   2120\u001b[0m       \u001b[0;31m# Record this checkpoint so it's visible from tf.train.latest_checkpoint.\u001b[0m\u001b[0;34m\u001b[0m\u001b[0;34m\u001b[0m\u001b[0;34m\u001b[0m\u001b[0m\n\u001b[1;32m   2121\u001b[0m       checkpoint_management.update_checkpoint_state_internal(\n",
      "\u001b[0;32m~/opt/anaconda3/envs/downscale_dev/lib/python3.9/site-packages/tensorflow/python/training/tracking/util.py\u001b[0m in \u001b[0;36msave\u001b[0;34m(self, file_prefix, checkpoint_number, session, options)\u001b[0m\n\u001b[1;32m   1214\u001b[0m \u001b[0;34m\u001b[0m\u001b[0m\n\u001b[1;32m   1215\u001b[0m     \u001b[0mfile_io\u001b[0m\u001b[0;34m.\u001b[0m\u001b[0mrecursive_create_dir\u001b[0m\u001b[0;34m(\u001b[0m\u001b[0mos\u001b[0m\u001b[0;34m.\u001b[0m\u001b[0mpath\u001b[0m\u001b[0;34m.\u001b[0m\u001b[0mdirname\u001b[0m\u001b[0;34m(\u001b[0m\u001b[0mfile_prefix\u001b[0m\u001b[0;34m)\u001b[0m\u001b[0;34m)\u001b[0m\u001b[0;34m\u001b[0m\u001b[0;34m\u001b[0m\u001b[0m\n\u001b[0;32m-> 1216\u001b[0;31m     save_path, new_feed_additions = self._save_cached_when_graph_building(\n\u001b[0m\u001b[1;32m   1217\u001b[0m         file_prefix_tensor, object_graph_tensor, options)\n\u001b[1;32m   1218\u001b[0m     \u001b[0;32mif\u001b[0m \u001b[0mnew_feed_additions\u001b[0m\u001b[0;34m:\u001b[0m\u001b[0;34m\u001b[0m\u001b[0;34m\u001b[0m\u001b[0m\n",
      "\u001b[0;32m~/opt/anaconda3/envs/downscale_dev/lib/python3.9/site-packages/tensorflow/python/training/tracking/util.py\u001b[0m in \u001b[0;36m_save_cached_when_graph_building\u001b[0;34m(self, file_prefix, object_graph_tensor, options)\u001b[0m\n\u001b[1;32m   1160\u001b[0m         or context.executing_eagerly() or ops.inside_function()):\n\u001b[1;32m   1161\u001b[0m       \u001b[0msaver\u001b[0m \u001b[0;34m=\u001b[0m \u001b[0mfunctional_saver\u001b[0m\u001b[0;34m.\u001b[0m\u001b[0mMultiDeviceSaver\u001b[0m\u001b[0;34m(\u001b[0m\u001b[0mnamed_saveable_objects\u001b[0m\u001b[0;34m)\u001b[0m\u001b[0;34m\u001b[0m\u001b[0;34m\u001b[0m\u001b[0m\n\u001b[0;32m-> 1162\u001b[0;31m       \u001b[0msave_op\u001b[0m \u001b[0;34m=\u001b[0m \u001b[0msaver\u001b[0m\u001b[0;34m.\u001b[0m\u001b[0msave\u001b[0m\u001b[0;34m(\u001b[0m\u001b[0mfile_prefix\u001b[0m\u001b[0;34m,\u001b[0m \u001b[0moptions\u001b[0m\u001b[0;34m=\u001b[0m\u001b[0moptions\u001b[0m\u001b[0;34m)\u001b[0m\u001b[0;34m\u001b[0m\u001b[0;34m\u001b[0m\u001b[0m\n\u001b[0m\u001b[1;32m   1163\u001b[0m       \u001b[0;32mwith\u001b[0m \u001b[0mops\u001b[0m\u001b[0;34m.\u001b[0m\u001b[0mdevice\u001b[0m\u001b[0;34m(\u001b[0m\u001b[0;34m\"/cpu:0\"\u001b[0m\u001b[0;34m)\u001b[0m\u001b[0;34m:\u001b[0m\u001b[0;34m\u001b[0m\u001b[0;34m\u001b[0m\u001b[0m\n\u001b[1;32m   1164\u001b[0m         \u001b[0;32mwith\u001b[0m \u001b[0mops\u001b[0m\u001b[0;34m.\u001b[0m\u001b[0mcontrol_dependencies\u001b[0m\u001b[0;34m(\u001b[0m\u001b[0;34m[\u001b[0m\u001b[0msave_op\u001b[0m\u001b[0;34m]\u001b[0m\u001b[0;34m)\u001b[0m\u001b[0;34m:\u001b[0m\u001b[0;34m\u001b[0m\u001b[0;34m\u001b[0m\u001b[0m\n",
      "\u001b[0;32m~/opt/anaconda3/envs/downscale_dev/lib/python3.9/site-packages/tensorflow/python/training/saving/functional_saver.py\u001b[0m in \u001b[0;36msave\u001b[0;34m(self, file_prefix, options)\u001b[0m\n\u001b[1;32m    298\u001b[0m       \u001b[0mtf_function_save\u001b[0m\u001b[0;34m(\u001b[0m\u001b[0;34m)\u001b[0m\u001b[0;34m\u001b[0m\u001b[0;34m\u001b[0m\u001b[0m\n\u001b[1;32m    299\u001b[0m     \u001b[0;32melse\u001b[0m\u001b[0;34m:\u001b[0m\u001b[0;34m\u001b[0m\u001b[0;34m\u001b[0m\u001b[0m\n\u001b[0;32m--> 300\u001b[0;31m       \u001b[0;32mreturn\u001b[0m \u001b[0msave_fn\u001b[0m\u001b[0;34m(\u001b[0m\u001b[0;34m)\u001b[0m\u001b[0;34m\u001b[0m\u001b[0;34m\u001b[0m\u001b[0m\n\u001b[0m\u001b[1;32m    301\u001b[0m \u001b[0;34m\u001b[0m\u001b[0m\n\u001b[1;32m    302\u001b[0m   \u001b[0;32mdef\u001b[0m \u001b[0mrestore\u001b[0m\u001b[0;34m(\u001b[0m\u001b[0mself\u001b[0m\u001b[0;34m,\u001b[0m \u001b[0mfile_prefix\u001b[0m\u001b[0;34m,\u001b[0m \u001b[0moptions\u001b[0m\u001b[0;34m=\u001b[0m\u001b[0;32mNone\u001b[0m\u001b[0;34m)\u001b[0m\u001b[0;34m:\u001b[0m\u001b[0;34m\u001b[0m\u001b[0;34m\u001b[0m\u001b[0m\n",
      "\u001b[0;32m~/opt/anaconda3/envs/downscale_dev/lib/python3.9/site-packages/tensorflow/python/training/saving/functional_saver.py\u001b[0m in \u001b[0;36msave_fn\u001b[0;34m()\u001b[0m\n\u001b[1;32m    272\u001b[0m           \u001b[0;31m# initial read operations should be placed on the SaveableObject's\u001b[0m\u001b[0;34m\u001b[0m\u001b[0;34m\u001b[0m\u001b[0;34m\u001b[0m\u001b[0m\n\u001b[1;32m    273\u001b[0m           \u001b[0;31m# device.\u001b[0m\u001b[0;34m\u001b[0m\u001b[0;34m\u001b[0m\u001b[0;34m\u001b[0m\u001b[0m\n\u001b[0;32m--> 274\u001b[0;31m           \u001b[0msharded_saves\u001b[0m\u001b[0;34m.\u001b[0m\u001b[0mappend\u001b[0m\u001b[0;34m(\u001b[0m\u001b[0msaver\u001b[0m\u001b[0;34m.\u001b[0m\u001b[0msave\u001b[0m\u001b[0;34m(\u001b[0m\u001b[0mshard_prefix\u001b[0m\u001b[0;34m,\u001b[0m \u001b[0moptions\u001b[0m\u001b[0;34m)\u001b[0m\u001b[0;34m)\u001b[0m\u001b[0;34m\u001b[0m\u001b[0;34m\u001b[0m\u001b[0m\n\u001b[0m\u001b[1;32m    275\u001b[0m \u001b[0;34m\u001b[0m\u001b[0m\n\u001b[1;32m    276\u001b[0m       \u001b[0;32mwith\u001b[0m \u001b[0mops\u001b[0m\u001b[0;34m.\u001b[0m\u001b[0mcontrol_dependencies\u001b[0m\u001b[0;34m(\u001b[0m\u001b[0msharded_saves\u001b[0m\u001b[0;34m)\u001b[0m\u001b[0;34m:\u001b[0m\u001b[0;34m\u001b[0m\u001b[0;34m\u001b[0m\u001b[0m\n",
      "\u001b[0;32m~/opt/anaconda3/envs/downscale_dev/lib/python3.9/site-packages/tensorflow/python/training/saving/functional_saver.py\u001b[0m in \u001b[0;36msave\u001b[0;34m(self, file_prefix, options)\u001b[0m\n\u001b[1;32m     81\u001b[0m     \u001b[0msave_device\u001b[0m \u001b[0;34m=\u001b[0m \u001b[0moptions\u001b[0m\u001b[0;34m.\u001b[0m\u001b[0mexperimental_io_device\u001b[0m \u001b[0;32mor\u001b[0m \u001b[0;34m\"cpu:0\"\u001b[0m\u001b[0;34m\u001b[0m\u001b[0;34m\u001b[0m\u001b[0m\n\u001b[1;32m     82\u001b[0m     \u001b[0;32mwith\u001b[0m \u001b[0mops\u001b[0m\u001b[0;34m.\u001b[0m\u001b[0mdevice\u001b[0m\u001b[0;34m(\u001b[0m\u001b[0msave_device\u001b[0m\u001b[0;34m)\u001b[0m\u001b[0;34m:\u001b[0m\u001b[0;34m\u001b[0m\u001b[0;34m\u001b[0m\u001b[0m\n\u001b[0;32m---> 83\u001b[0;31m       \u001b[0;32mreturn\u001b[0m \u001b[0mio_ops\u001b[0m\u001b[0;34m.\u001b[0m\u001b[0msave_v2\u001b[0m\u001b[0;34m(\u001b[0m\u001b[0mfile_prefix\u001b[0m\u001b[0;34m,\u001b[0m \u001b[0mtensor_names\u001b[0m\u001b[0;34m,\u001b[0m \u001b[0mtensor_slices\u001b[0m\u001b[0;34m,\u001b[0m \u001b[0mtensors\u001b[0m\u001b[0;34m)\u001b[0m\u001b[0;34m\u001b[0m\u001b[0;34m\u001b[0m\u001b[0m\n\u001b[0m\u001b[1;32m     84\u001b[0m \u001b[0;34m\u001b[0m\u001b[0m\n\u001b[1;32m     85\u001b[0m   \u001b[0;32mdef\u001b[0m \u001b[0mrestore\u001b[0m\u001b[0;34m(\u001b[0m\u001b[0mself\u001b[0m\u001b[0;34m,\u001b[0m \u001b[0mfile_prefix\u001b[0m\u001b[0;34m,\u001b[0m \u001b[0moptions\u001b[0m\u001b[0;34m=\u001b[0m\u001b[0;32mNone\u001b[0m\u001b[0;34m)\u001b[0m\u001b[0;34m:\u001b[0m\u001b[0;34m\u001b[0m\u001b[0;34m\u001b[0m\u001b[0m\n",
      "\u001b[0;32m~/opt/anaconda3/envs/downscale_dev/lib/python3.9/site-packages/tensorflow/python/ops/gen_io_ops.py\u001b[0m in \u001b[0;36msave_v2\u001b[0;34m(prefix, tensor_names, shape_and_slices, tensors, name)\u001b[0m\n\u001b[1;32m   1712\u001b[0m       \u001b[0;32mpass\u001b[0m\u001b[0;34m\u001b[0m\u001b[0;34m\u001b[0m\u001b[0m\n\u001b[1;32m   1713\u001b[0m     \u001b[0;32mtry\u001b[0m\u001b[0;34m:\u001b[0m\u001b[0;34m\u001b[0m\u001b[0;34m\u001b[0m\u001b[0m\n\u001b[0;32m-> 1714\u001b[0;31m       return save_v2_eager_fallback(\n\u001b[0m\u001b[1;32m   1715\u001b[0m           \u001b[0mprefix\u001b[0m\u001b[0;34m,\u001b[0m \u001b[0mtensor_names\u001b[0m\u001b[0;34m,\u001b[0m \u001b[0mshape_and_slices\u001b[0m\u001b[0;34m,\u001b[0m \u001b[0mtensors\u001b[0m\u001b[0;34m,\u001b[0m \u001b[0mname\u001b[0m\u001b[0;34m=\u001b[0m\u001b[0mname\u001b[0m\u001b[0;34m,\u001b[0m\u001b[0;34m\u001b[0m\u001b[0;34m\u001b[0m\u001b[0m\n\u001b[1;32m   1716\u001b[0m           ctx=_ctx)\n",
      "\u001b[0;32m~/opt/anaconda3/envs/downscale_dev/lib/python3.9/site-packages/tensorflow/python/ops/gen_io_ops.py\u001b[0m in \u001b[0;36msave_v2_eager_fallback\u001b[0;34m(prefix, tensor_names, shape_and_slices, tensors, name, ctx)\u001b[0m\n\u001b[1;32m   1733\u001b[0m   \u001b[0m_inputs_flat\u001b[0m \u001b[0;34m=\u001b[0m \u001b[0;34m[\u001b[0m\u001b[0mprefix\u001b[0m\u001b[0;34m,\u001b[0m \u001b[0mtensor_names\u001b[0m\u001b[0;34m,\u001b[0m \u001b[0mshape_and_slices\u001b[0m\u001b[0;34m]\u001b[0m \u001b[0;34m+\u001b[0m \u001b[0mlist\u001b[0m\u001b[0;34m(\u001b[0m\u001b[0mtensors\u001b[0m\u001b[0;34m)\u001b[0m\u001b[0;34m\u001b[0m\u001b[0;34m\u001b[0m\u001b[0m\n\u001b[1;32m   1734\u001b[0m   \u001b[0m_attrs\u001b[0m \u001b[0;34m=\u001b[0m \u001b[0;34m(\u001b[0m\u001b[0;34m\"dtypes\"\u001b[0m\u001b[0;34m,\u001b[0m \u001b[0m_attr_dtypes\u001b[0m\u001b[0;34m)\u001b[0m\u001b[0;34m\u001b[0m\u001b[0;34m\u001b[0m\u001b[0m\n\u001b[0;32m-> 1735\u001b[0;31m   _result = _execute.execute(b\"SaveV2\", 0, inputs=_inputs_flat, attrs=_attrs,\n\u001b[0m\u001b[1;32m   1736\u001b[0m                              ctx=ctx, name=name)\n\u001b[1;32m   1737\u001b[0m   \u001b[0m_result\u001b[0m \u001b[0;34m=\u001b[0m \u001b[0;32mNone\u001b[0m\u001b[0;34m\u001b[0m\u001b[0;34m\u001b[0m\u001b[0m\n",
      "\u001b[0;32m~/opt/anaconda3/envs/downscale_dev/lib/python3.9/site-packages/tensorflow/python/eager/execute.py\u001b[0m in \u001b[0;36mquick_execute\u001b[0;34m(op_name, num_outputs, inputs, attrs, ctx, name)\u001b[0m\n\u001b[1;32m     57\u001b[0m   \u001b[0;32mtry\u001b[0m\u001b[0;34m:\u001b[0m\u001b[0;34m\u001b[0m\u001b[0;34m\u001b[0m\u001b[0m\n\u001b[1;32m     58\u001b[0m     \u001b[0mctx\u001b[0m\u001b[0;34m.\u001b[0m\u001b[0mensure_initialized\u001b[0m\u001b[0;34m(\u001b[0m\u001b[0;34m)\u001b[0m\u001b[0;34m\u001b[0m\u001b[0;34m\u001b[0m\u001b[0m\n\u001b[0;32m---> 59\u001b[0;31m     tensors = pywrap_tfe.TFE_Py_Execute(ctx._handle, device_name, op_name,\n\u001b[0m\u001b[1;32m     60\u001b[0m                                         inputs, attrs, num_outputs)\n\u001b[1;32m     61\u001b[0m   \u001b[0;32mexcept\u001b[0m \u001b[0mcore\u001b[0m\u001b[0;34m.\u001b[0m\u001b[0m_NotOkStatusException\u001b[0m \u001b[0;32mas\u001b[0m \u001b[0me\u001b[0m\u001b[0;34m:\u001b[0m\u001b[0;34m\u001b[0m\u001b[0;34m\u001b[0m\u001b[0m\n",
      "\u001b[0;31mResourceExhaustedError\u001b[0m: checkpoints/discriminator/20211029_1031_cosmo_blurred/weights-40.ckpt_temp/part-00000-of-00001.data-00000-of-00001.tempstate3835843332834296058; No space left on device [Op:SaveV2]"
     ]
    }
   ],
   "source": [
    "discriminator.fit(x=x, y=y, callbacks=callbacks, epochs=50)"
   ]
  },
  {
   "cell_type": "code",
   "execution_count": 13,
   "id": "daa8abe8",
   "metadata": {},
   "outputs": [],
   "source": [
    "scores_true = discriminator([inputs, outputs])\n",
    "scores_fake = discriminator([noise, outputs])"
   ]
  },
  {
   "cell_type": "code",
   "execution_count": 14,
   "id": "8512ab37",
   "metadata": {},
   "outputs": [],
   "source": [
    "scores_true_np = scores_true.numpy()\n",
    "scores_true_np = np.squeeze(scores_true_np)\n",
    "scores_fake_np = scores_fake.numpy()\n",
    "scores_fake_np = np.squeeze(scores_fake_np)"
   ]
  },
  {
   "cell_type": "code",
   "execution_count": 35,
   "id": "0794488c",
   "metadata": {},
   "outputs": [
    {
     "name": "stderr",
     "output_type": "stream",
     "text": [
      "<ipython-input-35-5778f58792bc>:8: UserWarning: Matplotlib is currently using module://ipykernel.pylab.backend_inline, which is a non-GUI backend, so cannot show the figure.\n",
      "  fig.show()\n"
     ]
    },
    {
     "data": {
      "text/plain": [
       "<matplotlib.legend.Legend at 0x1796d3520>"
      ]
     },
     "execution_count": 35,
     "metadata": {},
     "output_type": "execute_result"
    },
    {
     "data": {
      "image/png": "[encoded data removed]",
      "text/plain": [
       "<Figure size 720x288 with 1 Axes>"
      ]
     },
     "metadata": {
      "needs_background": "light"
     },
     "output_type": "display_data"
    }
   ],
   "source": [
    "import matplotlib.pyplot as plt\n",
    "fig, ax = plt.subplots(ncols=1, figsize=(10,4))\n",
    "range = [np.min(scores_true_np), np.max(scores_fake_np)]\n",
    "ax.hist(scores_true_np, bins=50, color='navy', range=range, label='Observed wind fields')\n",
    "ax.hist(scores_fake_np, bins=50, color='salmon', range=range, label='Random wind fields')\n",
    "ax.set_xlabel('Score attributed by the discriminator')\n",
    "ax.set_ylabel('Number of occurrences')\n",
    "fig.show()\n",
    "plt.legend()"
   ]
  },
  {
   "cell_type": "code",
   "execution_count": 16,
   "id": "bcc8753e",
   "metadata": {},
   "outputs": [
    {
     "data": {
      "text/plain": [
       "(array([4.00269702e-08, 4.00268971e-08, 1.20080911e-07, 1.20080691e-07,\n",
       "        4.00269702e-07, 1.04070122e-06, 3.60242074e-06, 1.14477135e-05,\n",
       "        3.38227280e-05, 6.62446356e-05]),\n",
       " array([161763.64, 170319.52, 178875.4 , 187431.28, 195987.17, 204543.05,\n",
       "        213098.92, 221654.81, 230210.69, 238766.58, 247322.45],\n",
       "       dtype=float32),\n",
       " <BarContainer object of 10 artists>)"
      ]
     },
     "execution_count": 16,
     "metadata": {},
     "output_type": "execute_result"
    },
    {
     "data": {
      "image/png": "[encoded data removed]",
      "text/plain": [
       "<Figure size 432x288 with 1 Axes>"
      ]
     },
     "metadata": {
      "needs_background": "light"
     },
     "output_type": "display_data"
    }
   ],
   "source": []
  },
  {
   "cell_type": "code",
   "execution_count": null,
   "id": "5d1e300e",
   "metadata": {},
   "outputs": [],
   "source": []
  }
 ],
 "metadata": {
  "kernelspec": {
   "display_name": "Python [conda env:downscale_dev]",
   "language": "python",
   "name": "conda-env-downscale_dev-py"
  },
  "language_info": {
   "codemirror_mode": {
    "name": "ipython",
    "version": 3
   },
   "file_extension": ".py",
   "mimetype": "text/x-python",
   "name": "python",
   "nbconvert_exporter": "python",
   "pygments_lexer": "ipython3",
   "version": "3.9.2"
  }
 },
 "nbformat": 4,
 "nbformat_minor": 5
}
