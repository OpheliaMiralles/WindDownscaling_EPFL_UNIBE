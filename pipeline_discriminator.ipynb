{
 "cells": [
  {
   "cell_type": "markdown",
   "id": "db425a82",
   "metadata": {},
   "source": [
    "# Wind Downscaling\n"
   ]
  },
  {
   "cell_type": "code",
   "execution_count": 1,
   "id": "711de2d7",
   "metadata": {},
   "outputs": [
    {
     "name": "stdout",
     "output_type": "stream",
     "text": [
      "Num GPUs Available: 0\n"
     ]
    }
   ],
   "source": [
    "import os\n",
    "from datetime import date, datetime\n",
    "from pathlib import Path\n",
    "from dotenv import load_dotenv\n",
    "from data.data_generator import BatchGenerator, NaiveDecoder, LocalFileProvider, S3FileProvider, NoiseGenerator\n",
    "from gan import train, metrics\n",
    "from gan.models import make_discriminator\n",
    "load_dotenv()\n",
    "import numpy as np\n",
    "import tensorflow as tf\n",
    "import tensorflow.keras.callbacks as cb\n",
    "print(f\"Num GPUs Available: {len(tf.config.list_physical_devices('GPU'))}\")\n",
    "import pandas as pd"
   ]
  },
  {
   "cell_type": "markdown",
   "id": "a1ff71a3",
   "metadata": {},
   "source": [
    "## Set configuration"
   ]
  },
  {
   "cell_type": "code",
   "execution_count": 2,
   "id": "029c1426",
   "metadata": {},
   "outputs": [],
   "source": [
    "DATA_ROOT = Path('./data')\n",
    "ERA5_DATA_FOLDER = DATA_ROOT / 'ERA5'\n",
    "COSMO1_DATA_FOLDER = DATA_ROOT / 'COSMO1'\n",
    "DEM_DATA_FILE = DATA_ROOT / 'dem/Switzerland-90m-DEM.tif'\n",
    "PROCESSED_DATA_FOLDER = DATA_ROOT / 'img_prediction_files'\n",
    "\n",
    "DATA_ROOT.mkdir(parents=True, exist_ok=True)\n",
    "ERA5_DATA_FOLDER.mkdir(exist_ok=True)\n",
    "COSMO1_DATA_FOLDER.mkdir(exist_ok=True)\n",
    "DEM_DATA_FILE.parent.mkdir(exist_ok=True)\n",
    "PROCESSED_DATA_FOLDER.mkdir(exist_ok=True)\n",
    "cosmoblurred = True\n",
    "run_id=datetime.today().strftime('%Y%m%d_%H%M')\n",
    "data_provider = 'local'"
   ]
  },
  {
   "cell_type": "code",
   "execution_count": 3,
   "id": "c457e1b5",
   "metadata": {},
   "outputs": [],
   "source": [
    "# Start and end date for the data - should be in the 2016-2020 range\n",
    "START_DATE = date(2017,1,1)\n",
    "END_DATE = date(2017,12,31)\n",
    "NUM_DAYS = (END_DATE-START_DATE).days + 1\n",
    "# Number of consecutive images to form a sequence\n",
    "SEQUENCE_LENGTH = 3\n",
    "# Size of the high resolution image to be produced\n",
    "IMG_SIZE = 64\n",
    "# Number of sequences per batch\n",
    "BATCH_SIZE = 8"
   ]
  },
  {
   "cell_type": "code",
   "execution_count": 4,
   "id": "39c9ac03",
   "metadata": {
    "pycharm": {
     "name": "#%%\n"
    }
   },
   "outputs": [],
   "source": [
    "TOPO_PREDICTORS = ['tpi_500', 'slope', 'aspect']\n",
    "HOMEMADE_PREDICTORS = ['e_plus', 'e_minus', 'w_speed', 'w_angle']\n",
    "ERA5_PREDICTORS_SURFACE = ['u10', 'v10', 'blh', 'fsr', 'sp', 'sshf']\n",
    "ERA5_PREDICTORS_Z500 = ['z']\n",
    "if cosmoblurred:\n",
    "    ALL_INPUTS = ['U_10M', 'V_10M'] + HOMEMADE_PREDICTORS + TOPO_PREDICTORS\n",
    "    input_pattern = 'x_cosmo_{date}.nc'\n",
    "    run_id = f'{run_id}_cosmo_blurred'\n",
    "else:\n",
    "    ALL_INPUTS = ERA5_PREDICTORS_Z500 + ERA5_PREDICTORS_SURFACE + TOPO_PREDICTORS + HOMEMADE_PREDICTORS\n",
    "    input_pattern = 'x_{date}.nc'\n",
    "ALL_INPUTS = ['U_10M', 'V_10M']\n",
    "ALL_OUTPUTS = ['U_10M', 'V_10M']\n",
    "BATCH_WORKERS = os.cpu_count()\n",
    "if data_provider == 'local':\n",
    "    input_provider = LocalFileProvider(PROCESSED_DATA_FOLDER, input_pattern)\n",
    "    output_provider = LocalFileProvider(PROCESSED_DATA_FOLDER, 'y_{date}.nc')\n",
    "elif data_provider == 's3':\n",
    "    input_provider = S3FileProvider('wind-downscaling', 'img_prediction_files', pattern=input_pattern)\n",
    "    output_provider = S3FileProvider('wind-downscaling', 'img_prediction_files', pattern='y_{date}.nc')\n",
    "else:\n",
    "    raise ValueError(f'Wrong value for data provider {data_provider}: please choose between s3 and local')\n",
    "AVAIL_DATES = [pd.to_datetime(v) for v in\n",
    "               set(input_provider.available_dates).intersection(output_provider.available_dates)]\n",
    "START_DATE = min(AVAIL_DATES)\n",
    "END_DATE = max(AVAIL_DATES)\n",
    "batch_gen = BatchGenerator(input_provider, output_provider,\n",
    "                                    decoder=NaiveDecoder(normalize=True),\n",
    "                                    sequence_length=SEQUENCE_LENGTH,\n",
    "                                    patch_length_pixel=IMG_SIZE, batch_size=BATCH_SIZE,\n",
    "                                    input_variables=ALL_INPUTS,\n",
    "                                    output_variables=ALL_OUTPUTS,\n",
    "                                    start_date=START_DATE, end_date=END_DATE,\n",
    "                                    num_workers=BATCH_WORKERS)\n",
    "INPUT_CHANNELS = len(ALL_INPUTS)\n",
    "OUT_CHANNELS = len(ALL_OUTPUTS)\n"
   ]
  },
  {
   "cell_type": "code",
   "execution_count": null,
   "id": "b5322305",
   "metadata": {
    "pycharm": {
     "name": "#%%\n"
    }
   },
   "outputs": [],
   "source": [
    "inputs = []\n",
    "outputs = []\n",
    "with batch_gen as batch:\n",
    "    for b in range(NUM_DAYS):\n",
    "        print(f'Creating batch {b+1}/{NUM_DAYS}')\n",
    "        x, y = next(batch)\n",
    "        inputs.append(x)\n",
    "        outputs.append(y)\n",
    "inputs = np.concatenate(inputs, axis=0)\n",
    "outputs = np.concatenate(outputs, axis=0)"
   ]
  },
  {
   "cell_type": "code",
   "execution_count": 27,
   "id": "cf21b28e",
   "metadata": {
    "pycharm": {
     "name": "#%%\n"
    },
    "scrolled": true
   },
   "outputs": [
    {
     "name": "stdout",
     "output_type": "stream",
     "text": [
      "Inputs: (2920, 3, 64, 64, 2)\n",
      "Outputs: (2920, 3, 64, 64, 2)\n",
      "(5840, 3, 64, 64, 2) (5840, 3, 64, 64, 2) (5840,)\n"
     ]
    }
   ],
   "source": [
    "print(f\"Inputs: {inputs.shape}\")\n",
    "print(f\"Outputs: {outputs.shape}\")\n",
    "n_examples = inputs.shape[0]\n",
    "noise = NoiseGenerator(inputs.shape)()[...,:2]\n",
    "x = np.concatenate([inputs, noise], axis=0)\n",
    "x = (x, np.concatenate([outputs, outputs], axis=0))\n",
    "y = np.concatenate([np.ones(n_examples), -np.ones(n_examples)])\n",
    "print(x[0].shape, x[1].shape, y.shape)"
   ]
  },
  {
   "cell_type": "code",
   "execution_count": 28,
   "id": "00ce7c78",
   "metadata": {},
   "outputs": [],
   "source": [
    "INPUT_CHANNELS = len(ALL_INPUTS)\n",
    "OUT_CHANNELS = len(ALL_OUTPUTS)"
   ]
  },
  {
   "cell_type": "code",
   "execution_count": 29,
   "id": "a4d07769",
   "metadata": {
    "pycharm": {
     "name": "#%%\n"
    }
   },
   "outputs": [
    {
     "name": "stdout",
     "output_type": "stream",
     "text": [
      "Generator: 2,123,081 weights\n"
     ]
    }
   ],
   "source": [
    "discriminator = make_discriminator(low_res_size=IMG_SIZE, high_res_size=IMG_SIZE,\n",
    "                               low_res_channels=INPUT_CHANNELS,\n",
    "                               high_res_channels=OUT_CHANNELS,\n",
    "                                        n_timesteps=SEQUENCE_LENGTH)\n",
    "print(f\"Generator: {discriminator.count_params():,} weights\")\n",
    "\n",
    "def loss(y_true, y_pred):\n",
    "    return tf.reduce_mean(y_true * y_pred)\n",
    "\n",
    "discriminator.compile(optimizer=train.discriminator_optimizer(),\n",
    "                  metrics=['accuracy'],\n",
    "                  loss=loss)"
   ]
  },
  {
   "cell_type": "code",
   "execution_count": 30,
   "id": "e76efc60",
   "metadata": {},
   "outputs": [],
   "source": [
    "checkpoint_path_weights = Path('./checkpoints/discriminator') / run_id / 'weights-{epoch:02d}.ckpt'\n",
    "checkpoint_path_weights.parent.mkdir(exist_ok=True, parents=True)\n",
    "log_path = Path('./logs/discriminator') / run_id\n",
    "if log_path.exists():\n",
    "    log_path_str = str(log_path)\n",
    "    !rm -rf {log_path_str}"
   ]
  },
  {
   "cell_type": "code",
   "execution_count": 31,
   "id": "5b753c15",
   "metadata": {
    "scrolled": false
   },
   "outputs": [
    {
     "name": "stdout",
     "output_type": "stream",
     "text": [
      "The tensorboard extension is already loaded. To reload it, use:\n",
      "  %reload_ext tensorboard\n"
     ]
    },
    {
     "data": {
      "text/html": [
       "\n",
       "      <iframe id=\"tensorboard-frame-d4c2ee604605d668\" width=\"100%\" height=\"800\" frameborder=\"0\">\n",
       "      </iframe>\n",
       "      <script>\n",
       "        (function() {\n",
       "          const frame = document.getElementById(\"tensorboard-frame-d4c2ee604605d668\");\n",
       "          const url = new URL(\"/\", window.location);\n",
       "          const port = 6006;\n",
       "          if (port) {\n",
       "            url.port = port;\n",
       "          }\n",
       "          frame.src = url;\n",
       "        })();\n",
       "      </script>\n",
       "    "
      ],
      "text/plain": [
       "<IPython.core.display.HTML object>"
      ]
     },
     "metadata": {},
     "output_type": "display_data"
    }
   ],
   "source": [
    "%load_ext tensorboard\n",
    "%tensorboard --logdir=$log_path"
   ]
  },
  {
   "cell_type": "code",
   "execution_count": 32,
   "id": "375c2a87",
   "metadata": {},
   "outputs": [
    {
     "name": "stdout",
     "output_type": "stream",
     "text": [
      "WARNING:tensorflow:`period` argument is deprecated. Please use `save_freq` to specify the frequency in number of batches seen.\n"
     ]
    }
   ],
   "source": [
    "callbacks = [\n",
    "        cb.TensorBoard(log_path, write_images=True, update_freq='batch'),\n",
    "        cb.ProgbarLogger('steps'),\n",
    "        cb.TerminateOnNaN(),\n",
    "        cb.ModelCheckpoint(str(checkpoint_path_weights), save_best_only=False, period=10,\n",
    "                           save_weights_only=True),\n",
    "    ]"
   ]
  },
  {
   "cell_type": "code",
   "execution_count": 33,
   "id": "b42a9f11",
   "metadata": {
    "pycharm": {
     "name": "#%%\n"
    },
    "scrolled": false
   },
   "outputs": [
    {
     "name": "stdout",
     "output_type": "stream",
     "text": [
      "Epoch 1/50\n",
      "183/183 [==============================] - 245s 1s/step - loss: -168.8731 - accuracy: 0.3130\n",
      "Epoch 2/50\n",
      "183/183 [==============================] - 215s 1s/step - loss: -1023.5041 - accuracy: 0.4652\n",
      "Epoch 3/50\n",
      "183/183 [==============================] - 234s 1s/step - loss: -1853.2492 - accuracy: 0.1682\n",
      "Epoch 4/50\n",
      "183/183 [==============================] - 327s 2s/step - loss: -2554.4853 - accuracy: 0.5003\n",
      "Epoch 5/50\n",
      "183/183 [==============================] - 364s 2s/step - loss: -3650.2903 - accuracy: 0.4921\n",
      "Epoch 6/50\n",
      "183/183 [==============================] - 272s 1s/step - loss: -4072.0458 - accuracy: 0.0000e+00\n",
      "Epoch 7/50\n",
      "183/183 [==============================] - 381s 2s/step - loss: -3954.4956 - accuracy: 0.0000e+00\n",
      "Epoch 8/50\n",
      "183/183 [==============================] - 383s 2s/step - loss: -5028.4753 - accuracy: 0.0176\n",
      "Epoch 9/50\n",
      "183/183 [==============================] - 382s 2s/step - loss: -7204.7442 - accuracy: 0.5074\n",
      "Epoch 10/50\n",
      "183/183 [==============================] - 381s 2s/step - loss: -9936.1000 - accuracy: 0.4901\n",
      "Epoch 11/50\n",
      "183/183 [==============================] - 384s 2s/step - loss: -11111.2906 - accuracy: 0.4996\n",
      "Epoch 12/50\n",
      "183/183 [==============================] - 403s 2s/step - loss: -11434.2350 - accuracy: 0.5093\n",
      "Epoch 13/50\n",
      "183/183 [==============================] - 389s 2s/step - loss: -8301.3171 - accuracy: 0.5000\n",
      "Epoch 14/50\n",
      "183/183 [==============================] - 383s 2s/step - loss: -15271.4308 - accuracy: 0.4985\n",
      "Epoch 15/50\n",
      "183/183 [==============================] - 285s 2s/step - loss: -17297.7825 - accuracy: 0.4970\n",
      "Epoch 16/50\n",
      "183/183 [==============================] - 217s 1s/step - loss: -18969.2993 - accuracy: 0.4104\n",
      "Epoch 17/50\n",
      "183/183 [==============================] - 220s 1s/step - loss: -17782.5743 - accuracy: 0.0000e+00\n",
      "Epoch 18/50\n",
      "183/183 [==============================] - 211s 1s/step - loss: -16945.1104 - accuracy: 0.0000e+00\n",
      "Epoch 19/50\n",
      "183/183 [==============================] - 209s 1s/step - loss: -18774.8100 - accuracy: 0.0000e+00\n",
      "Epoch 20/50\n",
      "183/183 [==============================] - 210s 1s/step - loss: -21250.6787 - accuracy: 0.3980\n",
      "Epoch 21/50\n",
      "183/183 [==============================] - 210s 1s/step - loss: -25741.0935 - accuracy: 0.5033\n",
      "Epoch 22/50\n",
      "183/183 [==============================] - 210s 1s/step - loss: -28505.3224 - accuracy: 0.4984\n",
      "Epoch 23/50\n",
      "183/183 [==============================] - 210s 1s/step - loss: -30263.5920 - accuracy: 0.5022\n",
      "Epoch 24/50\n",
      "183/183 [==============================] - 210s 1s/step - loss: -32420.0034 - accuracy: 0.4933\n",
      "Epoch 25/50\n",
      "183/183 [==============================] - 210s 1s/step - loss: -33842.7088 - accuracy: 0.4815\n",
      "Epoch 26/50\n",
      "183/183 [==============================] - 209s 1s/step - loss: -15689.1924 - accuracy: 0.4873\n",
      "Epoch 27/50\n",
      "183/183 [==============================] - 210s 1s/step - loss: -37426.1352 - accuracy: 0.4910\n",
      "Epoch 28/50\n",
      "183/183 [==============================] - 210s 1s/step - loss: -40967.4229 - accuracy: 0.4763\n",
      "Epoch 29/50\n",
      "183/183 [==============================] - 209s 1s/step - loss: -41556.8414 - accuracy: 0.2549\n",
      "Epoch 30/50\n",
      "183/183 [==============================] - 210s 1s/step - loss: -40215.1260 - accuracy: 0.0000e+00\n",
      "Epoch 31/50\n",
      "183/183 [==============================] - 211s 1s/step - loss: -37310.5849 - accuracy: 0.0000e+00\n",
      "Epoch 32/50\n",
      "183/183 [==============================] - 210s 1s/step - loss: -38329.2301 - accuracy: 0.0000e+00\n",
      "Epoch 33/50\n",
      "183/183 [==============================] - 210s 1s/step - loss: -39103.4856 - accuracy: 0.0862\n",
      "Epoch 34/50\n",
      "183/183 [==============================] - 210s 1s/step - loss: -48662.4901 - accuracy: 0.4724\n",
      "Epoch 35/50\n",
      "183/183 [==============================] - 210s 1s/step - loss: -51700.7389 - accuracy: 0.4333\n",
      "Epoch 36/50\n",
      "183/183 [==============================] - 209s 1s/step - loss: -52012.5412 - accuracy: 0.4622\n",
      "Epoch 37/50\n",
      "183/183 [==============================] - 211s 1s/step - loss: -57226.5830 - accuracy: 0.4857\n",
      "Epoch 38/50\n",
      "183/183 [==============================] - 211s 1s/step - loss: -57394.3693 - accuracy: 0.5019\n",
      "Epoch 39/50\n",
      "183/183 [==============================] - 210s 1s/step - loss: -60740.7982 - accuracy: 0.4757\n",
      "Epoch 40/50\n",
      "183/183 [==============================] - 211s 1s/step - loss: -62423.9061 - accuracy: 0.4909\n",
      "Epoch 41/50\n",
      "183/183 [==============================] - 211s 1s/step - loss: -63283.7374 - accuracy: 0.4661\n",
      "Epoch 42/50\n",
      "183/183 [==============================] - 210s 1s/step - loss: -58667.0936 - accuracy: 0.0276\n",
      "Epoch 43/50\n",
      "183/183 [==============================] - 210s 1s/step - loss: -55245.0551 - accuracy: 0.0000e+00\n",
      "Epoch 44/50\n",
      "183/183 [==============================] - 212s 1s/step - loss: -55157.5856 - accuracy: 0.0000e+00\n",
      "Epoch 45/50\n",
      "183/183 [==============================] - 210s 1s/step - loss: -55246.2511 - accuracy: 0.0000e+00\n",
      "Epoch 46/50\n",
      "183/183 [==============================] - 210s 1s/step - loss: -58295.8101 - accuracy: 0.0305\n",
      "Epoch 47/50\n",
      "183/183 [==============================] - 211s 1s/step - loss: -70348.6733 - accuracy: 0.5042\n",
      "Epoch 48/50\n",
      "183/183 [==============================] - 210s 1s/step - loss: -75624.0585 - accuracy: 0.4923\n",
      "Epoch 49/50\n",
      "183/183 [==============================] - 209s 1s/step - loss: -77671.9915 - accuracy: 0.4977\n",
      "Epoch 50/50\n",
      "183/183 [==============================] - 211s 1s/step - loss: -79444.1499 - accuracy: 0.4965\n"
     ]
    },
    {
     "data": {
      "text/plain": [
       "<tensorflow.python.keras.callbacks.History at 0x1717d7100>"
      ]
     },
     "execution_count": 33,
     "metadata": {},
     "output_type": "execute_result"
    }
   ],
   "source": [
    "discriminator.fit(x=x, y=y, callbacks=callbacks, epochs=50)"
   ]
  },
  {
   "cell_type": "code",
   "execution_count": 43,
   "id": "daa8abe8",
   "metadata": {},
   "outputs": [],
   "source": [
    "scores_true = discriminator([inputs, outputs])\n",
    "scores_fake = discriminator([noise, outputs])"
   ]
  },
  {
   "cell_type": "code",
   "execution_count": 46,
   "id": "8512ab37",
   "metadata": {},
   "outputs": [],
   "source": [
    "scores_true_np = scores_true.numpy()\n",
    "scores_true_np = np.squeeze(scores_true_np)\n",
    "scores_fake_np = scores_fake.numpy()\n",
    "scores_fake_np = np.squeeze(scores_fake_np)"
   ]
  },
  {
   "cell_type": "code",
   "execution_count": 50,
   "id": "0794488c",
   "metadata": {},
   "outputs": [
    {
     "data": {
      "text/plain": [
       "(array([3.49251045e-04, 9.80297503e-05, 1.60147538e-05, 4.85295570e-06,\n",
       "        1.94118228e-06, 1.13235633e-06, 3.23530678e-07, 3.23530380e-07,\n",
       "        1.61765190e-07, 3.23530380e-07]),\n",
       " array([10737.86 , 12854.915, 14971.969, 17089.023, 19206.078, 21323.133,\n",
       "        23440.188, 25557.24 , 27674.295, 29791.35 , 31908.404],\n",
       "       dtype=float32),\n",
       " <BarContainer object of 10 artists>)"
      ]
     },
     "execution_count": 50,
     "metadata": {},
     "output_type": "execute_result"
    },
    {
     "data": {
      "image/png": "[encoded data removed]",
      "text/plain": [
       "<Figure size 432x288 with 1 Axes>"
      ]
     },
     "metadata": {
      "needs_background": "light"
     },
     "output_type": "display_data"
    }
   ],
   "source": [
    "import matplotlib.pyplot as plt\n",
    "plt.hist(scores_true_np, density=True)"
   ]
  },
  {
   "cell_type": "code",
   "execution_count": 49,
   "id": "bcc8753e",
   "metadata": {},
   "outputs": [
    {
     "data": {
      "text/plain": [
       "(array([4.31059194e-08, 3.01742623e-07, 8.62118389e-08, 3.01742623e-07,\n",
       "        1.42249534e-06, 4.09506235e-06, 9.69887002e-06, 2.44410563e-05,\n",
       "        5.78914775e-05, 2.75877884e-05]),\n",
       " array([293729.62, 301674.38, 309619.1 , 317563.84, 325508.56, 333453.3 ,\n",
       "        341398.06, 349342.78, 357287.53, 365232.25, 373177.  ],\n",
       "       dtype=float32),\n",
       " <BarContainer object of 10 artists>)"
      ]
     },
     "execution_count": 49,
     "metadata": {},
     "output_type": "execute_result"
    },
    {
     "data": {
      "image/png": "[encoded data removed]",
      "text/plain": [
       "<Figure size 432x288 with 1 Axes>"
      ]
     },
     "metadata": {
      "needs_background": "light"
     },
     "output_type": "display_data"
    }
   ],
   "source": [
    "plt.hist(scores_fake_np, density=True)"
   ]
  },
  {
   "cell_type": "code",
   "execution_count": null,
   "id": "5d1e300e",
   "metadata": {},
   "outputs": [],
   "source": []
  }
 ],
 "metadata": {
  "kernelspec": {
   "display_name": "Python [conda env:downscale_dev]",
   "language": "python",
   "name": "conda-env-downscale_dev-py"
  },
  "language_info": {
   "codemirror_mode": {
    "name": "ipython",
    "version": 3
   },
   "file_extension": ".py",
   "mimetype": "text/x-python",
   "name": "python",
   "nbconvert_exporter": "python",
   "pygments_lexer": "ipython3",
   "version": "3.9.2"
  }
 },
 "nbformat": 4,
 "nbformat_minor": 5
}
