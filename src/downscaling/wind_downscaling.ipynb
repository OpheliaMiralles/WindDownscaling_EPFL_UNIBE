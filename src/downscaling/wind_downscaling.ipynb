{
 "cells": [
  {
   "cell_type": "markdown",
   "id": "747ecade",
   "metadata": {},
   "source": [
    "# Wind Downscaling"
   ]
  },
  {
   "cell_type": "markdown",
   "id": "fdf26a0b",
   "metadata": {},
   "source": [
    "## Prerequisites"
   ]
  },
  {
   "cell_type": "markdown",
   "id": "25a7e359",
   "metadata": {},
   "source": [
    "* Conda environment\n",
    "* Get a Copernicus API key from: https://cds.climate.copernicus.eu/api-how-to\n",
    "  * create a file at \\$HOME/.cdsapirc with the required UID and key"
   ]
  },
  {
   "cell_type": "markdown",
   "id": "0ab82919",
   "metadata": {},
   "source": [
    "## Install the required packages"
   ]
  },
  {
   "cell_type": "code",
   "execution_count": 1,
   "id": "573249e0",
   "metadata": {},
   "outputs": [],
   "source": [
    "import os\n",
    "from datetime import date, datetime\n",
    "from pathlib import Path"
   ]
  },
  {
   "cell_type": "code",
   "execution_count": 3,
   "id": "cc22f62d",
   "metadata": {
    "scrolled": true
   },
   "outputs": [
    {
     "name": "stdout",
     "output_type": "stream",
     "text": [
      "Collecting package metadata (current_repodata.json): done\n",
      "Solving environment: done\n",
      "\n",
      "\n",
      "==> WARNING: A newer version of conda exists. <==\n",
      "  current version: 4.10.3\n",
      "  latest version: 4.11.0\n",
      "\n",
      "Please update conda by running\n",
      "\n",
      "    $ conda update -n base conda\n",
      "\n",
      "\n",
      "\n",
      "# All requested packages already installed.\n",
      "\n"
     ]
    }
   ],
   "source": [
    "!conda install -y -c conda-forge gdal tensorflow xarray numpy=1.19.5 pandas pysftp cdsapi elevation rasterio dask python-dotenv"
   ]
  },
  {
   "cell_type": "code",
   "execution_count": 4,
   "id": "4092c846",
   "metadata": {},
   "outputs": [
    {
     "name": "stdout",
     "output_type": "stream",
     "text": [
      "Requirement already satisfied: topo-descriptors in /Users/Boubou/opt/anaconda3/envs/downscale_dev/lib/python3.9/site-packages (0.1.2)\n",
      "Requirement already satisfied: utm in /Users/Boubou/opt/anaconda3/envs/downscale_dev/lib/python3.9/site-packages (from topo-descriptors) (0.7.0)\n",
      "Requirement already satisfied: yaconfigobject in /Users/Boubou/opt/anaconda3/envs/downscale_dev/lib/python3.9/site-packages (from topo-descriptors) (1.2.3)\n",
      "Requirement already satisfied: scipy in /Users/Boubou/opt/anaconda3/envs/downscale_dev/lib/python3.9/site-packages (from topo-descriptors) (1.6.2)\n",
      "Requirement already satisfied: xarray in /Users/Boubou/opt/anaconda3/envs/downscale_dev/lib/python3.9/site-packages (from topo-descriptors) (0.19.0)\n",
      "Requirement already satisfied: numpy in /Users/Boubou/opt/anaconda3/envs/downscale_dev/lib/python3.9/site-packages (from topo-descriptors) (1.19.5)\n",
      "Requirement already satisfied: pandas in /Users/Boubou/opt/anaconda3/envs/downscale_dev/lib/python3.9/site-packages (from topo-descriptors) (1.3.5)\n",
      "Requirement already satisfied: netcdf4 in /Users/Boubou/opt/anaconda3/envs/downscale_dev/lib/python3.9/site-packages (from topo-descriptors) (1.5.6)\n",
      "Requirement already satisfied: cftime in /Users/Boubou/opt/anaconda3/envs/downscale_dev/lib/python3.9/site-packages (from netcdf4->topo-descriptors) (1.5.1)\n",
      "Requirement already satisfied: python-dateutil>=2.7.3 in /Users/Boubou/opt/anaconda3/envs/downscale_dev/lib/python3.9/site-packages (from pandas->topo-descriptors) (2.8.2)\n",
      "Requirement already satisfied: pytz>=2017.3 in /Users/Boubou/opt/anaconda3/envs/downscale_dev/lib/python3.9/site-packages (from pandas->topo-descriptors) (2021.1)\n",
      "Requirement already satisfied: setuptools>=40.4 in /Users/Boubou/opt/anaconda3/envs/downscale_dev/lib/python3.9/site-packages (from xarray->topo-descriptors) (58.0.4)\n",
      "Requirement already satisfied: pyyaml in /Users/Boubou/opt/anaconda3/envs/downscale_dev/lib/python3.9/site-packages (from yaconfigobject->topo-descriptors) (5.4.1)\n",
      "Requirement already satisfied: six>=1.5 in /Users/Boubou/opt/anaconda3/envs/downscale_dev/lib/python3.9/site-packages (from python-dateutil>=2.7.3->pandas->topo-descriptors) (1.15.0)\n"
     ]
    }
   ],
   "source": [
    "!pip install topo-descriptors"
   ]
  },
  {
   "cell_type": "code",
   "execution_count": 2,
   "id": "5b42d2b5",
   "metadata": {},
   "outputs": [
    {
     "name": "stdout",
     "output_type": "stream",
     "text": [
      "Found existing installation: downscaling 1.0\n",
      "Uninstalling downscaling-1.0:\n",
      "  Successfully uninstalled downscaling-1.0\n",
      "Collecting git+https://github.com/OpheliaMiralles/wind-downscaling-gan.git\n",
      "  Cloning https://github.com/OpheliaMiralles/wind-downscaling-gan.git to /private/var/folders/nb/drg15dgx4mj6bqb_f4c9bnvc0000gp/T/pip-req-build-qs5q7054\n",
      "  Running command git clone --filter=blob:none -q https://github.com/OpheliaMiralles/wind-downscaling-gan.git /private/var/folders/nb/drg15dgx4mj6bqb_f4c9bnvc0000gp/T/pip-req-build-qs5q7054\n",
      "  Resolved https://github.com/OpheliaMiralles/wind-downscaling-gan.git to commit fa87f976cd1dee51233d5ef770b142f87bb7096c\n",
      "  Preparing metadata (setup.py) ... \u001b[?25ldone\n",
      "\u001b[?25hBuilding wheels for collected packages: downscaling\n",
      "  Building wheel for downscaling (setup.py) ... \u001b[?25ldone\n",
      "\u001b[?25h  Created wheel for downscaling: filename=downscaling-1.0-py3-none-any.whl size=34921926 sha256=c31b4b46197938fe63b99e8659f3ef89acff35711c45d31cd1cdc1bda5f6a1a0\n",
      "  Stored in directory: /private/var/folders/nb/drg15dgx4mj6bqb_f4c9bnvc0000gp/T/pip-ephem-wheel-cache-q5pqwfmd/wheels/5f/c9/1a/f3d704b062d6cea2f7f70735392d0bf114ed90dcad1d16d103\n",
      "Successfully built downscaling\n",
      "Installing collected packages: downscaling\n",
      "Successfully installed downscaling-1.0\n"
     ]
    }
   ],
   "source": [
    "!pip uninstall downscaling -y\n",
    "!pip install -U git+https://github.com/OpheliaMiralles/wind-downscaling-gan.git"
   ]
  },
  {
   "cell_type": "markdown",
   "id": "7f0a6117",
   "metadata": {},
   "source": [
    "## Set configuration"
   ]
  },
  {
   "cell_type": "code",
   "execution_count": 5,
   "id": "ee120d83",
   "metadata": {},
   "outputs": [],
   "source": [
    "DATA_ROOT = Path('./data') and Path('/Volumes/ExtremeSSD/data')\n",
    "ERA5_DATA_FOLDER = DATA_ROOT / 'ERA5_FR'\n",
    "DEM_DATA_FILE = DATA_ROOT / 'dem/France-90m-DEM.tif'\n",
    "START_DATE = date(2016,4,1)\n",
    "END_DATE = date(2016,4,2)\n",
    "LONGITUDE_R = (-4.96, 8.3)\n",
    "LATITUDE_R = (42.2, 51.3)"
   ]
  },
  {
   "cell_type": "markdown",
   "id": "5031a684",
   "metadata": {},
   "source": [
    "## Data Loading"
   ]
  },
  {
   "cell_type": "code",
   "execution_count": 6,
   "id": "6f48756e",
   "metadata": {
    "scrolled": false
   },
   "outputs": [
    {
     "name": "stdout",
     "output_type": "stream",
     "text": [
      "File 20160401_era5_surface_hourly already exists\n",
      "File 20160402_era5_surface_hourly already exists\n",
      "File 20160401_era5_z500_hourly already exists\n",
      "File 20160402_era5_z500_hourly already exists\n",
      "Done\n"
     ]
    }
   ],
   "source": [
    "from downscaling.data import download_ERA5\n",
    "download_ERA5(ERA5_DATA_FOLDER, START_DATE, END_DATE, LATITUDE_R, LONGITUDE_R)\n",
    "print('Done')"
   ]
  },
  {
   "cell_type": "code",
   "execution_count": 7,
   "id": "0ec234b3",
   "metadata": {},
   "outputs": [],
   "source": [
    "if not DEM_DATA_FILE.exists():\n",
    "    dest = str(DEM_DATA_FILE)\n",
    "    !eio --product SRTM3 clip -o {dest} --bounds -4.96 42.2 8.3 51.3"
   ]
  },
  {
   "cell_type": "markdown",
   "id": "52081441",
   "metadata": {},
   "source": [
    "## Downscaling"
   ]
  },
  {
   "cell_type": "code",
   "execution_count": 8,
   "id": "edda9cb3",
   "metadata": {},
   "outputs": [],
   "source": [
    "from downscaling import downscale, plot_wind_fields\n",
    "import xarray as xr"
   ]
  },
  {
   "cell_type": "code",
   "execution_count": null,
   "id": "b0c7cfb8",
   "metadata": {},
   "outputs": [
    {
     "name": "stdout",
     "output_type": "stream",
     "text": [
      "Loading network...\n",
      "Applying model to 1935 patches\n",
      "Predicted 1%\n",
      "Predicted 2%\n",
      "Predicted 2%\n",
      "Predicted 3%\n",
      "Predicted 4%\n",
      "Predicted 5%\n",
      "Predicted 6%\n",
      "Predicted 7%\n",
      "Predicted 7%\n",
      "Predicted 8%\n",
      "Predicted 9%\n",
      "Predicted 10%\n",
      "Predicted 11%\n",
      "Predicted 12%\n",
      "Predicted 12%\n",
      "Predicted 13%\n",
      "Predicted 14%\n",
      "Predicted 15%\n",
      "Predicted 16%\n",
      "Predicted 17%\n",
      "Predicted 17%\n",
      "Predicted 18%\n",
      "Predicted 19%\n",
      "Predicted 20%\n",
      "Predicted 21%\n",
      "Predicted 21%\n",
      "Predicted 22%\n",
      "Predicted 23%\n",
      "Predicted 24%\n",
      "Predicted 25%\n",
      "Predicted 26%\n",
      "Predicted 26%\n",
      "Predicted 27%\n",
      "Predicted 28%\n",
      "Predicted 29%\n",
      "Predicted 30%\n",
      "Predicted 31%\n",
      "Predicted 31%\n",
      "Predicted 32%\n",
      "Predicted 33%\n",
      "Predicted 34%\n",
      "Predicted 35%\n",
      "Predicted 36%\n",
      "Predicted 36%\n"
     ]
    }
   ],
   "source": [
    "era5 = xr.open_mfdataset(ERA5_DATA_FOLDER.glob('20160401*surface*.nc'))\n",
    "raster_topo = xr.open_rasterio(DEM_DATA_FILE)\n",
    "downscaled_maps = downscale(era5, raster_topo, range_lon=LONGITUDE_R, range_lat=LATITUDE_R)"
   ]
  },
  {
   "cell_type": "code",
   "execution_count": null,
   "id": "bd8e625d",
   "metadata": {},
   "outputs": [],
   "source": [
    "fig = plot_wind_fields(downscaled_maps.isel(time=0), range_lon=LONGITUDE_R, range_lat=LATITUDE_R)\n",
    "fig.show()"
   ]
  },
  {
   "cell_type": "markdown",
   "id": "05b99f64",
   "metadata": {},
   "source": [
    "## Downscaling wind fields in Switzerland with target COSMO-1"
   ]
  },
  {
   "cell_type": "code",
   "execution_count": null,
   "id": "91e0beee",
   "metadata": {},
   "outputs": [],
   "source": [
    "from downscaling import process_era5, process_topo, predict"
   ]
  },
  {
   "cell_type": "code",
   "execution_count": null,
   "id": "7cb6bb01",
   "metadata": {},
   "outputs": [],
   "source": [
    "ERA5_DATA_FOLDER = DATA_ROOT / 'ERA5'\n",
    "DEM_DATA_FILE = DATA_ROOT / 'dem/Switzerland-90m-DEM.tif'\n",
    "START_DATE = date(2016,4,1)\n",
    "END_DATE = date(2016,4,1)\n",
    "LONGITUDE_R = (5.8, 10.6)\n",
    "LATITUDE_R = (45.75, 47.9)"
   ]
  },
  {
   "cell_type": "code",
   "execution_count": null,
   "id": "c5cb6ff4",
   "metadata": {},
   "outputs": [],
   "source": [
    "import requests\n",
    "r = requests.get('https://raw.githubusercontent.com/OpheliaMiralles/wind-downscaling-gan/master/src/downscaling/switzerland_cosmo_map.nc')\n",
    "with open('switzerland_cosmo_map.nc', 'wb') as f:\n",
    "    f.write(r.content)\n",
    "HIGH_RES_TEMPLATE = xr.open_dataset('switzerland_cosmo_map.nc')"
   ]
  },
  {
   "cell_type": "code",
   "execution_count": null,
   "id": "d6069f2c",
   "metadata": {},
   "outputs": [],
   "source": [
    "era5 = process_era5(xr.open_dataset(ERA5_DATA_FOLDER / '20171005_era5_surface_hourly.nc'), high_res_template=HIGH_RES_TEMPLATE)\n",
    "topo = process_topo(xr.open_rasterio(DEM_DATA_FILE), high_res_template=HIGH_RES_TEMPLATE)"
   ]
  },
  {
   "cell_type": "code",
   "execution_count": null,
   "id": "0cceaa3d",
   "metadata": {},
   "outputs": [],
   "source": [
    "downscaled_maps = predict(era5, topo, high_res_template=HIGH_RES_TEMPLATE)"
   ]
  },
  {
   "cell_type": "markdown",
   "id": "bf7c16d8",
   "metadata": {},
   "source": [
    "## Plots of wind fields in Switzerland"
   ]
  },
  {
   "cell_type": "code",
   "execution_count": null,
   "id": "b9278b6f",
   "metadata": {},
   "outputs": [],
   "source": [
    "from downscaling import plot_elevation, plot_wind_fields\n",
    "from cartopy.crs import epsg\n",
    "HIGH_RES_CRS = epsg(21781)  # crs for the target map, for plots"
   ]
  },
  {
   "cell_type": "code",
   "execution_count": null,
   "id": "a199ee60",
   "metadata": {},
   "outputs": [],
   "source": [
    "raw_topo = xr.open_rasterio(DEM_DATA_FILE)\n",
    "fig_topo = plot_elevation(raw_topo, range_lon=LONGITUDE_R, range_lat=LATITUDE_R)\n",
    "fig_topo.show()"
   ]
  },
  {
   "cell_type": "code",
   "execution_count": null,
   "id": "ceaef12e",
   "metadata": {},
   "outputs": [],
   "source": [
    "fig = plot_wind_fields(downscaled_maps.isel(time=0), range_lon=LONGITUDE_R, range_lat=LATITUDE_R, high_res_crs=HIGH_RES_CRS)\n",
    "fig.show()"
   ]
  }
 ],
 "metadata": {
  "kernelspec": {
   "display_name": "Python [conda env:downscale_dev]",
   "language": "python",
   "name": "conda-env-downscale_dev-py"
  },
  "language_info": {
   "codemirror_mode": {
    "name": "ipython",
    "version": 3
   },
   "file_extension": ".py",
   "mimetype": "text/x-python",
   "name": "python",
   "nbconvert_exporter": "python",
   "pygments_lexer": "ipython3",
   "version": "3.9.2"
  }
 },
 "nbformat": 4,
 "nbformat_minor": 5
}
