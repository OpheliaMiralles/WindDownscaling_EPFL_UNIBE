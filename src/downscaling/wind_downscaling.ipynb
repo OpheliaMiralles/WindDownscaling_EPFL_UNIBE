{
 "cells": [
  {
   "cell_type": "markdown",
   "id": "747ecade",
   "metadata": {},
   "source": [
    "# Wind Downscaling"
   ]
  },
  {
   "cell_type": "markdown",
   "id": "fdf26a0b",
   "metadata": {},
   "source": [
    "## Prerequisites"
   ]
  },
  {
   "cell_type": "markdown",
   "id": "25a7e359",
   "metadata": {},
   "source": [
    "* Conda environment\n",
    "* Get a Copernicus API key from: https://cds.climate.copernicus.eu/api-how-to\n",
    "  * create a file at \\$HOME/.cdsapirc with the required UID and key"
   ]
  },
  {
   "cell_type": "markdown",
   "id": "0ab82919",
   "metadata": {},
   "source": [
    "## Install the required packages"
   ]
  },
  {
   "cell_type": "code",
   "execution_count": null,
   "id": "573249e0",
   "metadata": {},
   "outputs": [],
   "source": [
    "import os\n",
    "from datetime import date, datetime\n",
    "from pathlib import Path"
   ]
  },
  {
   "cell_type": "code",
   "execution_count": null,
   "id": "5b42d2b5",
   "metadata": {},
   "outputs": [],
   "source": [
    "!pip uninstall downscaling -y\n",
    "!pip install -U git+https://github.com/OpheliaMiralles/wind-downscaling-gan.git"
   ]
  },
  {
   "cell_type": "code",
   "execution_count": null,
   "id": "cc22f62d",
   "metadata": {},
   "outputs": [],
   "source": [
    "!conda install -y -c conda-forge gdal tensorflow xarray numpy=1.19.5 pandas pysftp cdsapi elevation rasterio dask python-dotenv"
   ]
  },
  {
   "cell_type": "code",
   "execution_count": null,
   "id": "4092c846",
   "metadata": {},
   "outputs": [],
   "source": [
    "!pip install topo-descriptors"
   ]
  },
  {
   "cell_type": "markdown",
   "id": "7f0a6117",
   "metadata": {},
   "source": [
    "## Set configuration"
   ]
  },
  {
   "cell_type": "code",
   "execution_count": null,
   "id": "ee120d83",
   "metadata": {},
   "outputs": [],
   "source": [
    "DATA_ROOT = Path('./data')\n",
    "ERA5_DATA_FOLDER = DATA_ROOT / 'ERA5_FR'\n",
    "DEM_DATA_FILE = DATA_ROOT / 'dem/France-90m-DEM.tif'\n",
    "START_DATE = date(2016,4,1)\n",
    "END_DATE = date(2016,4,2)\n",
    "LONGITUDE_R = (-4.96, 8.3)\n",
    "LATITUDE_R = (42.2, 51.3)"
   ]
  },
  {
   "cell_type": "markdown",
   "id": "5031a684",
   "metadata": {},
   "source": [
    "## Data Loading"
   ]
  },
  {
   "cell_type": "code",
   "execution_count": null,
   "id": "6f48756e",
   "metadata": {
    "scrolled": false
   },
   "outputs": [],
   "source": [
    "from downscaling.data import download_ERA5\n",
    "download_ERA5(ERA5_DATA_FOLDER, START_DATE, END_DATE, LATITUDE_R, LONGITUDE_R)\n",
    "print('Done')"
   ]
  },
  {
   "cell_type": "code",
   "execution_count": null,
   "id": "0ec234b3",
   "metadata": {},
   "outputs": [],
   "source": [
    "if not DEM_DATA_FILE.exists():\n",
    "    dest = str(DEM_DATA_FILE)\n",
    "    !eio --product SRTM3 clip -o {dest} --bounds -4.96 42.2 8.3 51.3"
   ]
  },
  {
   "cell_type": "markdown",
   "id": "52081441",
   "metadata": {},
   "source": [
    "## Downscaling"
   ]
  },
  {
   "cell_type": "code",
   "execution_count": null,
   "id": "edda9cb3",
   "metadata": {},
   "outputs": [],
   "source": [
    "from downscaling import downscale, plot_wind_fields\n",
    "import xarray as xr"
   ]
  },
  {
   "cell_type": "code",
   "execution_count": null,
   "id": "b0c7cfb8",
   "metadata": {},
   "outputs": [],
   "source": [
    "era5 = xr.open_mfdataset(ERA5_DATA_FOLDER.glob('20160401*surface*.nc'))\n",
    "raster_topo = xr.open_rasterio(DEM_DATA_FILE)\n",
    "downscaled_maps = downscale(era5, raster_topo, range_lon=LONGITUDE_R, range_lat=LATITUDE_R)"
   ]
  },
  {
   "cell_type": "code",
   "execution_count": null,
   "id": "bd8e625d",
   "metadata": {},
   "outputs": [],
   "source": [
    "fig = plot_wind_fields(downscaled_maps.isel(time=0), range_lon=LONGITUDE_R, range_lat=LATITUDE_R)\n",
    "fig.show()"
   ]
  },
  {
   "cell_type": "markdown",
   "id": "05b99f64",
   "metadata": {},
   "source": [
    "## Downscaling wind fields in Switzerland with target COSMO-1"
   ]
  },
  {
   "cell_type": "code",
   "execution_count": null,
   "id": "91e0beee",
   "metadata": {},
   "outputs": [],
   "source": [
    "from downscaling import process_era5, process_topo, predict"
   ]
  },
  {
   "cell_type": "code",
   "execution_count": null,
   "id": "7cb6bb01",
   "metadata": {},
   "outputs": [],
   "source": [
    "ERA5_DATA_FOLDER = DATA_ROOT / 'ERA5'\n",
    "DEM_DATA_FILE = DATA_ROOT / 'dem/Switzerland-90m-DEM.tif'\n",
    "START_DATE = date(2016,4,1)\n",
    "END_DATE = date(2016,4,1)\n",
    "LONGITUDE_R = (5.8, 10.6)\n",
    "LATITUDE_R = (45.75, 47.9)"
   ]
  },
  {
   "cell_type": "code",
   "execution_count": null,
   "id": "c5cb6ff4",
   "metadata": {},
   "outputs": [],
   "source": [
    "import requests\n",
    "r = requests.get('https://github.com/OpheliaMiralles/wind-downscaling-gan/blob/master/src/downscaling/switzerland_cosmo_map.nc')\n",
    "with open('switzerland_cosmo_map.nc', 'wb') as f:\n",
    "    f.write(r.content)\n",
    "HIGH_RES_TEMPLATE = xr.open_dataset('switzerland_cosmo_map.nc')"
   ]
  },
  {
   "cell_type": "code",
   "execution_count": null,
   "id": "d6069f2c",
   "metadata": {},
   "outputs": [],
   "source": [
    "era5 = process_era5(xr.open_dataset(ERA5_DATA_FOLDER / '20171005_era5_surface_hourly.nc'), high_res_template=HIGH_RES_TEMPLATE)\n",
    "topo = process_topo(xr.open_rasterio(DEM_DATA_FILE), high_res_template=HIGH_RES_TEMPLATE)"
   ]
  },
  {
   "cell_type": "code",
   "execution_count": null,
   "id": "0cceaa3d",
   "metadata": {},
   "outputs": [],
   "source": [
    "downscaled_maps = predict(era5, topo, high_res_template=HIGH_RES_TEMPLATE)"
   ]
  },
  {
   "cell_type": "markdown",
   "id": "bf7c16d8",
   "metadata": {},
   "source": [
    "## Plots of wind fields in Switzerland"
   ]
  },
  {
   "cell_type": "code",
   "execution_count": null,
   "id": "b9278b6f",
   "metadata": {},
   "outputs": [],
   "source": [
    "from downscaling import plot_elevation, plot_wind_fields\n",
    "from cartopy.crs import epsg\n",
    "HIGH_RES_CRS = epsg(21781)  # crs for the target map, for plots"
   ]
  },
  {
   "cell_type": "code",
   "execution_count": null,
   "id": "a199ee60",
   "metadata": {},
   "outputs": [],
   "source": [
    "raw_topo = xr.open_rasterio(DEM_DATA_FILE)\n",
    "fig_topo = plot_elevation(raw_topo, range_lon=LONGITUDE_R, range_lat=LATITUDE_R)\n",
    "fig_topo.show()"
   ]
  },
  {
   "cell_type": "code",
   "execution_count": null,
   "id": "ceaef12e",
   "metadata": {},
   "outputs": [],
   "source": [
    "fig = plot_wind_fields(downscaled_maps.isel(time=0), range_lon=LONGITUDE_R, range_lat=LATITUDE_R, high_res_crs=HIGH_RES_CRS)\n",
    "fig.show()"
   ]
  }
 ],
 "metadata": {
  "kernelspec": {
   "display_name": "Python [conda env:downscale_dev]",
   "language": "python",
   "name": "conda-env-downscale_dev-py"
  },
  "language_info": {
   "codemirror_mode": {
    "name": "ipython",
    "version": 3
   },
   "file_extension": ".py",
   "mimetype": "text/x-python",
   "name": "python",
   "nbconvert_exporter": "python",
   "pygments_lexer": "ipython3",
   "version": "3.9.2"
  }
 },
 "nbformat": 4,
 "nbformat_minor": 5
}
