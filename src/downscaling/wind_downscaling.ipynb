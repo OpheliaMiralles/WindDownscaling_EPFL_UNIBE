{
 "cells": [
  {
   "cell_type": "markdown",
   "id": "71d0a351",
   "metadata": {},
   "source": [
    "# Wind Downscaling"
   ]
  },
  {
   "cell_type": "markdown",
   "id": "d7f77405",
   "metadata": {},
   "source": [
    "## Prerequisites"
   ]
  },
  {
   "cell_type": "markdown",
   "id": "40c91b3f",
   "metadata": {},
   "source": [
    "* Conda environment\n",
    "* Get a Copernicus API key from: https://cds.climate.copernicus.eu/api-how-to\n",
    "  * create a file at \\$HOME/.cdsapirc with the required UID and key"
   ]
  },
  {
   "cell_type": "markdown",
   "id": "a828aa9a",
   "metadata": {},
   "source": [
    "## Install the required packages"
   ]
  },
  {
   "cell_type": "code",
   "execution_count": 1,
   "id": "62b1c67b",
   "metadata": {},
   "outputs": [],
   "source": [
    "import os\n",
    "from datetime import date, datetime\n",
    "from pathlib import Path"
   ]
  },
  {
   "cell_type": "code",
   "execution_count": 2,
   "id": "8efedfc3",
   "metadata": {},
   "outputs": [
    {
     "name": "stdout",
     "output_type": "stream",
     "text": [
      "Collecting git+https://github.com/OpheliaMiralles/WindDownscaling_EPFL_UNIBE.git\r\n",
      "  Cloning https://github.com/OpheliaMiralles/WindDownscaling_EPFL_UNIBE.git to /private/var/folders/nb/drg15dgx4mj6bqb_f4c9bnvc0000gp/T/pip-req-build-uvr3t04f\r\n",
      "  Running command git clone -q https://github.com/OpheliaMiralles/WindDownscaling_EPFL_UNIBE.git /private/var/folders/nb/drg15dgx4mj6bqb_f4c9bnvc0000gp/T/pip-req-build-uvr3t04f\r\n"
     ]
    }
   ],
   "source": [
    "if Path('./setup.py').exists():\n",
    "    !pip install -e .\n",
    "else:\n",
    "    !pip install -U git+https://github.com/OpheliaMiralles/WindDownscaling_EPFL_UNIBE.git"
   ]
  },
  {
   "cell_type": "code",
   "execution_count": 3,
   "id": "e37b2aee",
   "metadata": {},
   "outputs": [
    {
     "name": "stdout",
     "output_type": "stream",
     "text": [
      "Collecting package metadata (current_repodata.json): done\n",
      "Solving environment: done\n",
      "\n",
      "\n",
      "==> WARNING: A newer version of conda exists. <==\n",
      "  current version: 4.10.3\n",
      "  latest version: 4.11.0\n",
      "\n",
      "Please update conda by running\n",
      "\n",
      "    $ conda update -n base conda\n",
      "\n",
      "\n",
      "\n",
      "# All requested packages already installed.\n",
      "\n"
     ]
    }
   ],
   "source": [
    "!conda install -y -c conda-forge gdal tensorflow xarray numpy=1.19.5 pandas pysftp cdsapi elevation rasterio dask python-dotenv"
   ]
  },
  {
   "cell_type": "code",
   "execution_count": 4,
   "id": "8dd05ea3",
   "metadata": {},
   "outputs": [
    {
     "name": "stdout",
     "output_type": "stream",
     "text": [
      "Requirement already satisfied: topo-descriptors in /Users/Boubou/opt/anaconda3/envs/downscale_dev/lib/python3.9/site-packages (0.1.2)\n",
      "Requirement already satisfied: pandas in /Users/Boubou/opt/anaconda3/envs/downscale_dev/lib/python3.9/site-packages (from topo-descriptors) (1.3.5)\n",
      "Requirement already satisfied: utm in /Users/Boubou/opt/anaconda3/envs/downscale_dev/lib/python3.9/site-packages (from topo-descriptors) (0.7.0)\n",
      "Requirement already satisfied: scipy in /Users/Boubou/opt/anaconda3/envs/downscale_dev/lib/python3.9/site-packages (from topo-descriptors) (1.6.2)\n",
      "Requirement already satisfied: netcdf4 in /Users/Boubou/opt/anaconda3/envs/downscale_dev/lib/python3.9/site-packages (from topo-descriptors) (1.5.6)\n",
      "Requirement already satisfied: yaconfigobject in /Users/Boubou/opt/anaconda3/envs/downscale_dev/lib/python3.9/site-packages (from topo-descriptors) (1.2.3)\n",
      "Requirement already satisfied: xarray in /Users/Boubou/opt/anaconda3/envs/downscale_dev/lib/python3.9/site-packages (from topo-descriptors) (0.19.0)\n",
      "Requirement already satisfied: numpy in /Users/Boubou/opt/anaconda3/envs/downscale_dev/lib/python3.9/site-packages (from topo-descriptors) (1.19.5)\n",
      "Requirement already satisfied: cftime in /Users/Boubou/opt/anaconda3/envs/downscale_dev/lib/python3.9/site-packages (from netcdf4->topo-descriptors) (1.5.1)\n",
      "Requirement already satisfied: python-dateutil>=2.7.3 in /Users/Boubou/opt/anaconda3/envs/downscale_dev/lib/python3.9/site-packages (from pandas->topo-descriptors) (2.8.2)\n",
      "Requirement already satisfied: pytz>=2017.3 in /Users/Boubou/opt/anaconda3/envs/downscale_dev/lib/python3.9/site-packages (from pandas->topo-descriptors) (2021.1)\n",
      "Requirement already satisfied: six>=1.5 in /Users/Boubou/opt/anaconda3/envs/downscale_dev/lib/python3.9/site-packages (from python-dateutil>=2.7.3->pandas->topo-descriptors) (1.15.0)\n",
      "Requirement already satisfied: setuptools>=40.4 in /Users/Boubou/opt/anaconda3/envs/downscale_dev/lib/python3.9/site-packages (from xarray->topo-descriptors) (58.0.4)\n",
      "Requirement already satisfied: pyyaml in /Users/Boubou/opt/anaconda3/envs/downscale_dev/lib/python3.9/site-packages (from yaconfigobject->topo-descriptors) (5.4.1)\n"
     ]
    }
   ],
   "source": [
    "!pip install topo-descriptors"
   ]
  },
  {
   "cell_type": "markdown",
   "id": "247e7318",
   "metadata": {},
   "source": [
    "## Set configuration"
   ]
  },
  {
   "cell_type": "code",
   "execution_count": 5,
   "id": "18b4a3e6",
   "metadata": {},
   "outputs": [],
   "source": [
    "DATA_ROOT = Path('/Volumes/Extreme SSD/data/')\n",
    "ERA5_DATA_FOLDER = DATA_ROOT / 'ERA5_EU'\n",
    "DEM_DATA_FILE = DATA_ROOT / 'dem/Europe-90m-DEM.tif'\n",
    "START_DATE = date(2016,4,1)\n",
    "END_DATE = date(2017,4,1)\n",
    "AREA = [72,-25, 35, 65]"
   ]
  },
  {
   "cell_type": "markdown",
   "id": "58067962",
   "metadata": {},
   "source": [
    "## Data Loading"
   ]
  },
  {
   "cell_type": "code",
   "execution_count": 7,
   "id": "eda4f2ab",
   "metadata": {
    "scrolled": true
   },
   "outputs": [
    {
     "ename": "TypeError",
     "evalue": "download_ERA5() takes from 1 to 3 positional arguments but 4 were given",
     "output_type": "error",
     "traceback": [
      "\u001b[0;31m---------------------------------------------------------------\u001b[0m",
      "\u001b[0;31mTypeError\u001b[0m                     Traceback (most recent call last)",
      "\u001b[0;32m<ipython-input-7-e7173fafffd3>\u001b[0m in \u001b[0;36m<module>\u001b[0;34m\u001b[0m\n\u001b[1;32m      1\u001b[0m \u001b[0;32mfrom\u001b[0m \u001b[0mdata\u001b[0m\u001b[0;34m.\u001b[0m\u001b[0mdownload_ERA5\u001b[0m \u001b[0;32mimport\u001b[0m \u001b[0mdownload_ERA5\u001b[0m\u001b[0;34m\u001b[0m\u001b[0;34m\u001b[0m\u001b[0m\n\u001b[0;32m----> 2\u001b[0;31m \u001b[0mdownload_ERA5\u001b[0m\u001b[0;34m(\u001b[0m\u001b[0mERA5_DATA_FOLDER\u001b[0m\u001b[0;34m,\u001b[0m \u001b[0mSTART_DATE\u001b[0m\u001b[0;34m,\u001b[0m \u001b[0mEND_DATE\u001b[0m\u001b[0;34m,\u001b[0m \u001b[0mAREA\u001b[0m\u001b[0;34m)\u001b[0m\u001b[0;34m\u001b[0m\u001b[0;34m\u001b[0m\u001b[0m\n\u001b[0m\u001b[1;32m      3\u001b[0m \u001b[0mprint\u001b[0m\u001b[0;34m(\u001b[0m\u001b[0;34m'Done'\u001b[0m\u001b[0;34m)\u001b[0m\u001b[0;34m\u001b[0m\u001b[0;34m\u001b[0m\u001b[0m\n",
      "\u001b[0;31mTypeError\u001b[0m: download_ERA5() takes from 1 to 3 positional arguments but 4 were given"
     ]
    }
   ],
   "source": [
    "from data.download_ERA5 import download_ERA5\n",
    "download_ERA5(ERA5_DATA_FOLDER, START_DATE, END_DATE, AREA)\n",
    "print('Done')"
   ]
  },
  {
   "cell_type": "code",
   "execution_count": null,
   "id": "51dd4bc5",
   "metadata": {},
   "outputs": [],
   "source": [
    "if not DEM_DATA_FILE.exists():\n",
    "    dest = str(DEM_DATA_FILE)\n",
    "    !eio --product SRTM3 clip -o {dest} --bounds AREA[1] AREA[0] AREA[3] AREA[2] # area of interest"
   ]
  },
  {
   "cell_type": "markdown",
   "id": "0396466a",
   "metadata": {},
   "source": [
    "## Downscaling"
   ]
  },
  {
   "cell_type": "code",
   "execution_count": null,
   "id": "285ef9db",
   "metadata": {},
   "outputs": [],
   "source": [
    "from downscaling_utils import process_era5, process_topo, predict\n",
    "import xarray as xr"
   ]
  },
  {
   "cell_type": "markdown",
   "id": "8c197231",
   "metadata": {},
   "source": [
    "## Downscaling wind fields in Switzerland with target COSMO-1"
   ]
  },
  {
   "cell_type": "code",
   "execution_count": null,
   "id": "ad8d53ad",
   "metadata": {},
   "outputs": [],
   "source": [
    "HIGH_RES_TEMPLATE = xr.open_dataset('switzerland_highres_map.nc')"
   ]
  },
  {
   "cell_type": "code",
   "execution_count": null,
   "id": "25b30f1f",
   "metadata": {},
   "outputs": [],
   "source": [
    "era5 = process_era5(xr.open_dataset(ERA5_DATA_FOLDER / '20171005_era5_surface_hourly.nc'), high_res_template=HIGH_RES_TEMPLATE)\n",
    "topo = process_topo(xr.open_rasterio(DEM_DATA_FILE), high_res_template=HIGH_RES_TEMPLATE)"
   ]
  },
  {
   "cell_type": "code",
   "execution_count": null,
   "id": "d916a512",
   "metadata": {},
   "outputs": [],
   "source": [
    "downscaled_maps = predict(era5, topo, high_res_template=HIGH_RES_TEMPLATE)"
   ]
  },
  {
   "cell_type": "markdown",
   "id": "73aa26cc",
   "metadata": {},
   "source": [
    "## Plots of wind fields in Switzerland"
   ]
  },
  {
   "cell_type": "code",
   "execution_count": null,
   "id": "fa1fe28d",
   "metadata": {},
   "outputs": [],
   "source": [
    "from downscaling.downscaling_utils import plot_elevation, plot_wind_fields\n",
    "range_long = (5.8, 10.6)\n",
    "range_lat = (45.75, 47.9)\n",
    "HIGH_RES_CRS = epsg(21781)  # crs for the target map, for plots"
   ]
  },
  {
   "cell_type": "code",
   "execution_count": null,
   "id": "fdf84a49",
   "metadata": {},
   "outputs": [],
   "source": [
    "raw_topo = xr.open_rasterio(DEM_DATA_FILE)\n",
    "fig_topo = plot_elevation(raw_topo, range_long=range_long, range_lat=range_lat)\n",
    "fig_topo.show()"
   ]
  },
  {
   "cell_type": "code",
   "execution_count": null,
   "id": "4a974d3c",
   "metadata": {},
   "outputs": [],
   "source": [
    "fig = plot_wind_fields(downscaled_maps.isel(time=0), range_long=range_long, range_lat=range_lat, high_res_crs=HIGH_RES_CRS)\n",
    "fig.show()"
   ]
  }
 ],
 "metadata": {
  "kernelspec": {
   "display_name": "Python [conda env:downscale_dev]",
   "language": "python",
   "name": "conda-env-downscale_dev-py"
  },
  "language_info": {
   "codemirror_mode": {
    "name": "ipython",
    "version": 3
   },
   "file_extension": ".py",
   "mimetype": "text/x-python",
   "name": "python",
   "nbconvert_exporter": "python",
   "pygments_lexer": "ipython3",
   "version": "3.9.2"
  }
 },
 "nbformat": 4,
 "nbformat_minor": 5
}
